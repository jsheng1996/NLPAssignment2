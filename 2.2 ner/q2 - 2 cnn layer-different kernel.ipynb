{
 "cells": [
  {
   "cell_type": "code",
   "execution_count": 1,
   "metadata": {
    "ExecuteTime": {
     "end_time": "2020-11-20T15:30:49.640152Z",
     "start_time": "2020-11-20T15:30:47.618838Z"
    },
    "executionInfo": {
     "elapsed": 2657,
     "status": "ok",
     "timestamp": 1606305218616,
     "user": {
      "displayName": "Wong jun xiang",
      "photoUrl": "",
      "userId": "16719805263086576204"
     },
     "user_tz": -480
    },
    "id": "C8Vw4S7ypgGs"
   },
   "outputs": [],
   "source": [
    "from __future__ import print_function\n",
    "import numpy as np\n",
    "import re\n",
    "import codecs\n",
    "import sys\n",
    "import os\n",
    "from collections import OrderedDict\n",
    "\n",
    "import torch\n",
    "import torch.nn as nn\n",
    "from torch.nn import init\n",
    "from torch.autograd import Variable\n",
    "from torch import autograd\n",
    "\n",
    "import time\n",
    "import _pickle as cPickle\n",
    "\n",
    "import urllib\n",
    "import matplotlib.pyplot as plt\n",
    "plt.rcParams['figure.dpi'] = 80\n",
    "plt.style.use('seaborn-pastel')"
   ]
  },
  {
   "cell_type": "code",
   "execution_count": 2,
   "metadata": {
    "colab": {
     "base_uri": "https://localhost:8080/"
    },
    "executionInfo": {
     "elapsed": 2652,
     "status": "ok",
     "timestamp": 1606305218616,
     "user": {
      "displayName": "Wong jun xiang",
      "photoUrl": "",
      "userId": "16719805263086576204"
     },
     "user_tz": -480
    },
    "id": "Q8dn34d5pgGt",
    "outputId": "39e581e0-7ad5-42c7-883c-21191d85b1b2"
   },
   "outputs": [
    {
     "data": {
      "text/plain": [
       "True"
      ]
     },
     "execution_count": 2,
     "metadata": {},
     "output_type": "execute_result"
    }
   ],
   "source": [
    "torch.cuda.is_available()"
   ]
  },
  {
   "cell_type": "markdown",
   "metadata": {
    "id": "Ol9R7K36pgGt"
   },
   "source": [
    "##### Define constants and paramaters"
   ]
  },
  {
   "cell_type": "code",
   "execution_count": 3,
   "metadata": {
    "ExecuteTime": {
     "end_time": "2020-11-20T15:30:50.686689Z",
     "start_time": "2020-11-20T15:30:50.679703Z"
    },
    "executionInfo": {
     "elapsed": 2643,
     "status": "ok",
     "timestamp": 1606305218617,
     "user": {
      "displayName": "Wong jun xiang",
      "photoUrl": "",
      "userId": "16719805263086576204"
     },
     "user_tz": -480
    },
    "id": "GAhHRhXYpgGt"
   },
   "outputs": [],
   "source": [
    "#parameters for the Model\n",
    "parameters = OrderedDict()\n",
    "parameters['train'] = \"./data/eng.train\" #Path to train file\n",
    "parameters['dev'] = \"./data/eng.testa\" #Path to test file\n",
    "parameters['test'] = \"./data/eng.testb\" #Path to dev file\n",
    "parameters['tag_scheme'] = \"BIOES\" #BIO or BIOES\n",
    "parameters['lower'] = True # Boolean variable to control lowercasing of words\n",
    "parameters['zeros'] =  True # Boolean variable to control replacement of  all digits by 0 \n",
    "parameters['char_dim'] = 30 #Char embedding dimension\n",
    "parameters['word_dim'] = 100 #Token embedding dimension\n",
    "parameters['word_lstm_dim'] = 200 #Token LSTM hidden layer size\n",
    "parameters['word_bidirect'] = True #Use a bidirectional LSTM for words\n",
    "parameters['embedding_path'] = \"./data/glove.6B.100d.txt\" #Location of pretrained embeddings\n",
    "parameters['all_emb'] = 1 #Load all embeddings\n",
    "parameters['crf'] =1 #Use CRF (0 to disable)\n",
    "parameters['dropout'] = 0.5 #Droupout on the input (0 = no dropout)\n",
    "parameters['epoch'] =  50 #Number of epochs to run\"\n",
    "parameters['weights'] = \"\" #path to Pretrained for from a previous run\n",
    "parameters['name'] = \"self-trained-model-2-CNN-layers-different-kernel\" # Model name\n",
    "parameters['gradient_clip']=5.0\n",
    "parameters['char_mode']=\"CNN\"\n",
    "models_path = \"./models/\" #path to saved models\n",
    "\n",
    "#GPU\n",
    "parameters['use_gpu'] = torch.cuda.is_available() #GPU Check\n",
    "use_gpu = parameters['use_gpu']\n",
    "\n",
    "parameters['reload'] =  \"./models/pre-trained-model\" \n",
    "\n",
    "#Constants\n",
    "START_TAG = '<START>'\n",
    "STOP_TAG = '<STOP>'"
   ]
  },
  {
   "cell_type": "code",
   "execution_count": 4,
   "metadata": {
    "ExecuteTime": {
     "end_time": "2020-11-20T15:30:55.600573Z",
     "start_time": "2020-11-20T15:30:55.596583Z"
    },
    "executionInfo": {
     "elapsed": 2637,
     "status": "ok",
     "timestamp": 1606305218617,
     "user": {
      "displayName": "Wong jun xiang",
      "photoUrl": "",
      "userId": "16719805263086576204"
     },
     "user_tz": -480
    },
    "id": "s7kfp-JepgGu"
   },
   "outputs": [],
   "source": [
    "#paths to files \n",
    "#To stored mapping file\n",
    "mapping_file = './data/mapping.pkl'\n",
    "\n",
    "#To stored model\n",
    "name = parameters['name']\n",
    "model_name = models_path + name #get_name(parameters)\n",
    "\n",
    "if not os.path.exists(models_path):\n",
    "    os.makedirs(models_path)"
   ]
  },
  {
   "cell_type": "markdown",
   "metadata": {
    "id": "73B7s0W9pgGu"
   },
   "source": [
    "##### Load data and preprocess"
   ]
  },
  {
   "cell_type": "code",
   "execution_count": 5,
   "metadata": {
    "ExecuteTime": {
     "end_time": "2020-11-20T15:30:56.615639Z",
     "start_time": "2020-11-20T15:30:56.608690Z"
    },
    "executionInfo": {
     "elapsed": 2634,
     "status": "ok",
     "timestamp": 1606305218618,
     "user": {
      "displayName": "Wong jun xiang",
      "photoUrl": "",
      "userId": "16719805263086576204"
     },
     "user_tz": -480
    },
    "id": "SijUJrVZpgGu"
   },
   "outputs": [],
   "source": [
    "def zero_digits(s):\n",
    "    \"\"\"\n",
    "    Replace every digit in a string by a zero.\n",
    "    \"\"\"\n",
    "    return re.sub('\\d', '0', s)\n",
    "\n",
    "def load_sentences(path, zeros):\n",
    "    \"\"\"\n",
    "    Load sentences. A line must contain at least a word and its tag.\n",
    "    Sentences are separated by empty lines.\n",
    "    \"\"\"\n",
    "    sentences = []\n",
    "    sentence = []\n",
    "    for line in codecs.open(path, 'r', 'utf8'):\n",
    "        line = zero_digits(line.rstrip()) if zeros else line.rstrip()\n",
    "        if not line:\n",
    "            if len(sentence) > 0:\n",
    "                if 'DOCSTART' not in sentence[0][0]:\n",
    "                    sentences.append(sentence)\n",
    "                sentence = []\n",
    "        else:\n",
    "            word = line.split()\n",
    "            assert len(word) >= 2\n",
    "            sentence.append(word)\n",
    "    if len(sentence) > 0:\n",
    "        if 'DOCSTART' not in sentence[0][0]:\n",
    "            sentences.append(sentence)\n",
    "    return sentences"
   ]
  },
  {
   "cell_type": "code",
   "execution_count": 6,
   "metadata": {
    "ExecuteTime": {
     "end_time": "2020-11-20T15:30:58.438949Z",
     "start_time": "2020-11-20T15:30:57.211827Z"
    },
    "executionInfo": {
     "elapsed": 4054,
     "status": "ok",
     "timestamp": 1606305220041,
     "user": {
      "displayName": "Wong jun xiang",
      "photoUrl": "",
      "userId": "16719805263086576204"
     },
     "user_tz": -480
    },
    "id": "detvY-35pgGu"
   },
   "outputs": [],
   "source": [
    "train_sentences = load_sentences(parameters['train'], parameters['zeros'])\n",
    "test_sentences = load_sentences(parameters['test'], parameters['zeros'])\n",
    "dev_sentences = load_sentences(parameters['dev'], parameters['zeros'])"
   ]
  },
  {
   "cell_type": "markdown",
   "metadata": {
    "id": "PlDGHFSkpgGu"
   },
   "source": [
    "##### Update tagging scheme"
   ]
  },
  {
   "cell_type": "code",
   "execution_count": 7,
   "metadata": {
    "ExecuteTime": {
     "end_time": "2020-11-20T15:30:59.008093Z",
     "start_time": "2020-11-20T15:30:58.995099Z"
    },
    "executionInfo": {
     "elapsed": 4051,
     "status": "ok",
     "timestamp": 1606305220042,
     "user": {
      "displayName": "Wong jun xiang",
      "photoUrl": "",
      "userId": "16719805263086576204"
     },
     "user_tz": -480
    },
    "id": "EaGQ34CdpgGu"
   },
   "outputs": [],
   "source": [
    "def iob2(tags):\n",
    "    \"\"\"\n",
    "    Check that tags have a valid BIO format.\n",
    "    Tags in BIO1 format are converted to BIO2.\n",
    "    \"\"\"\n",
    "    for i, tag in enumerate(tags):\n",
    "        if tag == 'O':\n",
    "            continue\n",
    "        split = tag.split('-')\n",
    "        if len(split) != 2 or split[0] not in ['I', 'B']:\n",
    "            return False\n",
    "        if split[0] == 'B':\n",
    "            continue\n",
    "        elif i == 0 or tags[i - 1] == 'O':  # conversion IOB1 to IOB2\n",
    "            tags[i] = 'B' + tag[1:]\n",
    "        elif tags[i - 1][1:] == tag[1:]:\n",
    "            continue\n",
    "        else:  # conversion IOB1 to IOB2\n",
    "            tags[i] = 'B' + tag[1:]\n",
    "    return True\n",
    "\n",
    "def iob_iobes(tags):\n",
    "    \"\"\"\n",
    "    the function is used to convert\n",
    "    BIO -> BIOES tagging\n",
    "    \"\"\"\n",
    "    new_tags = []\n",
    "    for i, tag in enumerate(tags):\n",
    "        if tag == 'O':\n",
    "            new_tags.append(tag)\n",
    "        elif tag.split('-')[0] == 'B':\n",
    "            if i + 1 != len(tags) and \\\n",
    "               tags[i + 1].split('-')[0] == 'I':\n",
    "                new_tags.append(tag)\n",
    "            else:\n",
    "                new_tags.append(tag.replace('B-', 'S-'))\n",
    "        elif tag.split('-')[0] == 'I':\n",
    "            if i + 1 < len(tags) and \\\n",
    "                    tags[i + 1].split('-')[0] == 'I':\n",
    "                new_tags.append(tag)\n",
    "            else:\n",
    "                new_tags.append(tag.replace('I-', 'E-'))\n",
    "        else:\n",
    "            raise Exception('Invalid IOB format!')\n",
    "    return new_tags\n",
    "\n",
    "def update_tag_scheme(sentences, tag_scheme):\n",
    "    \"\"\"\n",
    "    Check and update sentences tagging scheme to BIO2\n",
    "    Only BIO1 and BIO2 schemes are accepted for input data.\n",
    "    \"\"\"\n",
    "    for i, s in enumerate(sentences):\n",
    "        tags = [w[-1] for w in s]\n",
    "        # Check that tags are given in the BIO format\n",
    "        if not iob2(tags):\n",
    "            s_str = '\\n'.join(' '.join(w) for w in s)\n",
    "            raise Exception('Sentences should be given in BIO format! ' +\n",
    "                            'Please check sentence %i:\\n%s' % (i, s_str))\n",
    "        if tag_scheme == 'BIOES':\n",
    "            new_tags = iob_iobes(tags)\n",
    "            for word, new_tag in zip(s, new_tags):\n",
    "                word[-1] = new_tag\n",
    "        else:\n",
    "            raise Exception('Wrong tagging scheme!')"
   ]
  },
  {
   "cell_type": "code",
   "execution_count": 8,
   "metadata": {
    "ExecuteTime": {
     "end_time": "2020-11-20T15:30:59.918043Z",
     "start_time": "2020-11-20T15:30:59.731074Z"
    },
    "executionInfo": {
     "elapsed": 4048,
     "status": "ok",
     "timestamp": 1606305220042,
     "user": {
      "displayName": "Wong jun xiang",
      "photoUrl": "",
      "userId": "16719805263086576204"
     },
     "user_tz": -480
    },
    "id": "o27r1i1ipgGu"
   },
   "outputs": [],
   "source": [
    "update_tag_scheme(train_sentences, parameters['tag_scheme'])\n",
    "update_tag_scheme(dev_sentences, parameters['tag_scheme'])\n",
    "update_tag_scheme(test_sentences, parameters['tag_scheme'])"
   ]
  },
  {
   "cell_type": "code",
   "execution_count": 9,
   "metadata": {
    "ExecuteTime": {
     "end_time": "2020-11-20T15:31:00.329718Z",
     "start_time": "2020-11-20T15:31:00.317769Z"
    },
    "executionInfo": {
     "elapsed": 4044,
     "status": "ok",
     "timestamp": 1606305220043,
     "user": {
      "displayName": "Wong jun xiang",
      "photoUrl": "",
      "userId": "16719805263086576204"
     },
     "user_tz": -480
    },
    "id": "DFj-uA8PpgGu"
   },
   "outputs": [],
   "source": [
    "def create_dico(item_list):\n",
    "    \"\"\"\n",
    "    Create a dictionary of items from a list of list of items.\n",
    "    \"\"\"\n",
    "    assert type(item_list) is list\n",
    "    dico = {}\n",
    "    for items in item_list:\n",
    "        for item in items:\n",
    "            if item not in dico:\n",
    "                dico[item] = 1\n",
    "            else:\n",
    "                dico[item] += 1\n",
    "    return dico\n",
    "\n",
    "def create_mapping(dico):\n",
    "    \"\"\"\n",
    "    Create a mapping (item to ID / ID to item) from a dictionary.\n",
    "    Items are ordered by decreasing frequency.\n",
    "    \"\"\"\n",
    "    sorted_items = sorted(dico.items(), key=lambda x: (-x[1], x[0]))\n",
    "    id_to_item = {i: v[0] for i, v in enumerate(sorted_items)}\n",
    "    item_to_id = {v: k for k, v in id_to_item.items()}\n",
    "    return item_to_id, id_to_item\n",
    "\n",
    "def word_mapping(sentences, lower):\n",
    "    \"\"\"\n",
    "    Create a dictionary and a mapping of words, sorted by frequency.\n",
    "    \"\"\"\n",
    "    words = [[x[0].lower() if lower else x[0] for x in s] for s in sentences]\n",
    "    dico = create_dico(words)\n",
    "    dico['<UNK>'] = 10000000 #UNK tag for unknown words\n",
    "    word_to_id, id_to_word = create_mapping(dico)\n",
    "    print(\"Found %i unique words (%i in total)\" % (\n",
    "        len(dico), sum(len(x) for x in words)\n",
    "    ))\n",
    "    return dico, word_to_id, id_to_word\n",
    "\n",
    "def char_mapping(sentences):\n",
    "    \"\"\"\n",
    "    Create a dictionary and mapping of characters, sorted by frequency.\n",
    "    \"\"\"\n",
    "    chars = [\"\".join([w[0] for w in s]) for s in sentences]\n",
    "    dico = create_dico(chars)\n",
    "    char_to_id, id_to_char = create_mapping(dico)\n",
    "    print(\"Found %i unique characters\" % len(dico))\n",
    "    return dico, char_to_id, id_to_char\n",
    "\n",
    "def tag_mapping(sentences):\n",
    "    \"\"\"\n",
    "    Create a dictionary and a mapping of tags, sorted by frequency.\n",
    "    \"\"\"\n",
    "    tags = [[word[-1] for word in s] for s in sentences]\n",
    "    dico = create_dico(tags)\n",
    "    dico[START_TAG] = -1\n",
    "    dico[STOP_TAG] = -2\n",
    "    tag_to_id, id_to_tag = create_mapping(dico)\n",
    "    print(\"Found %i unique named entity tags\" % len(dico))\n",
    "    return dico, tag_to_id, id_to_tag"
   ]
  },
  {
   "cell_type": "code",
   "execution_count": 10,
   "metadata": {
    "ExecuteTime": {
     "end_time": "2020-11-20T15:31:01.488712Z",
     "start_time": "2020-11-20T15:31:01.038916Z"
    },
    "colab": {
     "base_uri": "https://localhost:8080/"
    },
    "executionInfo": {
     "elapsed": 4492,
     "status": "ok",
     "timestamp": 1606305220495,
     "user": {
      "displayName": "Wong jun xiang",
      "photoUrl": "",
      "userId": "16719805263086576204"
     },
     "user_tz": -480
    },
    "id": "FWOWc_KXpgGu",
    "outputId": "3954d8a9-3297-466d-8001-be6776feef9e"
   },
   "outputs": [
    {
     "name": "stdout",
     "output_type": "stream",
     "text": [
      "Found 17493 unique words (203621 in total)\n",
      "Found 75 unique characters\n",
      "Found 19 unique named entity tags\n"
     ]
    }
   ],
   "source": [
    "dico_words,word_to_id,id_to_word = word_mapping(train_sentences, parameters['lower'])\n",
    "dico_chars, char_to_id, id_to_char = char_mapping(train_sentences)\n",
    "dico_tags, tag_to_id, id_to_tag = tag_mapping(train_sentences)"
   ]
  },
  {
   "cell_type": "markdown",
   "metadata": {
    "id": "0FjO0YLWpgGu"
   },
   "source": [
    "##### Preparing final dataset"
   ]
  },
  {
   "cell_type": "code",
   "execution_count": 11,
   "metadata": {
    "ExecuteTime": {
     "end_time": "2020-11-20T15:31:02.359816Z",
     "start_time": "2020-11-20T15:31:02.354833Z"
    },
    "executionInfo": {
     "elapsed": 4489,
     "status": "ok",
     "timestamp": 1606305220495,
     "user": {
      "displayName": "Wong jun xiang",
      "photoUrl": "",
      "userId": "16719805263086576204"
     },
     "user_tz": -480
    },
    "id": "0qHh_OavpgGu"
   },
   "outputs": [],
   "source": [
    "def lower_case(x,lower=False):\n",
    "    if lower:\n",
    "        return x.lower()  \n",
    "    else:\n",
    "        return x"
   ]
  },
  {
   "cell_type": "code",
   "execution_count": 12,
   "metadata": {
    "ExecuteTime": {
     "end_time": "2020-11-20T15:31:03.631650Z",
     "start_time": "2020-11-20T15:31:02.825312Z"
    },
    "colab": {
     "base_uri": "https://localhost:8080/"
    },
    "executionInfo": {
     "elapsed": 5685,
     "status": "ok",
     "timestamp": 1606305221694,
     "user": {
      "displayName": "Wong jun xiang",
      "photoUrl": "",
      "userId": "16719805263086576204"
     },
     "user_tz": -480
    },
    "id": "lgEaYnqfpgGu",
    "outputId": "c38e5eba-748a-4aa9-f78c-452257b39e5f"
   },
   "outputs": [
    {
     "name": "stdout",
     "output_type": "stream",
     "text": [
      "14041 / 3250 / 3453 sentences in train / dev / test.\n"
     ]
    }
   ],
   "source": [
    "def prepare_dataset(sentences, word_to_id, char_to_id, tag_to_id, lower=False):\n",
    "    \"\"\"\n",
    "    Prepare the dataset. Return a list of lists of dictionaries containing:\n",
    "        - word indexes\n",
    "        - word char indexes\n",
    "        - tag indexes\n",
    "    \"\"\"\n",
    "    data = []\n",
    "    for s in sentences:\n",
    "        str_words = [w[0] for w in s]\n",
    "        words = [word_to_id[lower_case(w,lower) if lower_case(w,lower) in word_to_id else '<UNK>']\n",
    "                 for w in str_words]\n",
    "        # Skip characters that are not in the training set\n",
    "        chars = [[char_to_id[c] for c in w if c in char_to_id]\n",
    "                 for w in str_words]\n",
    "        tags = [tag_to_id[w[-1]] for w in s]\n",
    "        data.append({\n",
    "            'str_words': str_words,\n",
    "            'words': words,\n",
    "            'chars': chars,\n",
    "            'tags': tags,\n",
    "        })\n",
    "    return data\n",
    "\n",
    "train_data = prepare_dataset(\n",
    "    train_sentences, word_to_id, char_to_id, tag_to_id, parameters['lower']\n",
    ")\n",
    "dev_data = prepare_dataset(\n",
    "    dev_sentences, word_to_id, char_to_id, tag_to_id, parameters['lower']\n",
    ")\n",
    "test_data = prepare_dataset(\n",
    "    test_sentences, word_to_id, char_to_id, tag_to_id, parameters['lower']\n",
    ")\n",
    "print(\"{} / {} / {} sentences in train / dev / test.\".format(len(train_data), len(dev_data), len(test_data)))"
   ]
  },
  {
   "cell_type": "markdown",
   "metadata": {
    "id": "2YfVW0ECpgGu"
   },
   "source": [
    "##### Load Word Embeddings\n"
   ]
  },
  {
   "cell_type": "code",
   "execution_count": 13,
   "metadata": {
    "ExecuteTime": {
     "end_time": "2020-11-20T15:31:24.961146Z",
     "start_time": "2020-11-20T15:31:04.597833Z"
    },
    "colab": {
     "base_uri": "https://localhost:8080/"
    },
    "executionInfo": {
     "elapsed": 26887,
     "status": "ok",
     "timestamp": 1606305242899,
     "user": {
      "displayName": "Wong jun xiang",
      "photoUrl": "",
      "userId": "16719805263086576204"
     },
     "user_tz": -480
    },
    "id": "CVDBmvZmpgGu",
    "outputId": "30034f07-5cef-4c40-eba0-ac79cee1ef5a"
   },
   "outputs": [
    {
     "name": "stdout",
     "output_type": "stream",
     "text": [
      "Loaded 400000 pretrained embeddings.\n"
     ]
    }
   ],
   "source": [
    "all_word_embeds = {}\n",
    "for i, line in enumerate(codecs.open(parameters['embedding_path'], 'r', 'utf-8')):\n",
    "    s = line.strip().split()\n",
    "    if len(s) == parameters['word_dim'] + 1:\n",
    "        all_word_embeds[s[0]] = np.array([float(i) for i in s[1:]])\n",
    "\n",
    "#Intializing Word Embedding Matrix\n",
    "word_embeds = np.random.uniform(-np.sqrt(0.06), np.sqrt(0.06), (len(word_to_id), parameters['word_dim']))\n",
    "\n",
    "for w in word_to_id:\n",
    "    if w in all_word_embeds:\n",
    "        word_embeds[word_to_id[w]] = all_word_embeds[w]\n",
    "    elif w.lower() in all_word_embeds:\n",
    "        word_embeds[word_to_id[w]] = all_word_embeds[w.lower()]\n",
    "\n",
    "print('Loaded %i pretrained embeddings.' % len(all_word_embeds))"
   ]
  },
  {
   "cell_type": "markdown",
   "metadata": {
    "id": "Vv6oGZtwpgGu"
   },
   "source": [
    "##### Storing Processed Data for Reuse"
   ]
  },
  {
   "cell_type": "code",
   "execution_count": 14,
   "metadata": {
    "ExecuteTime": {
     "end_time": "2020-11-20T15:40:56.752801Z",
     "start_time": "2020-11-20T15:40:56.702186Z"
    },
    "colab": {
     "base_uri": "https://localhost:8080/"
    },
    "executionInfo": {
     "elapsed": 26884,
     "status": "ok",
     "timestamp": 1606305242900,
     "user": {
      "displayName": "Wong jun xiang",
      "photoUrl": "",
      "userId": "16719805263086576204"
     },
     "user_tz": -480
    },
    "id": "Wef9h3rHpgGu",
    "outputId": "964697ab-e1a0-4071-f1fe-c6a11cdf1705"
   },
   "outputs": [
    {
     "name": "stdout",
     "output_type": "stream",
     "text": [
      "word_to_id:  17493\n"
     ]
    }
   ],
   "source": [
    "with open(mapping_file, 'wb') as f:\n",
    "    mappings = {\n",
    "        'word_to_id': word_to_id,\n",
    "        'tag_to_id': tag_to_id,\n",
    "        'char_to_id': char_to_id,\n",
    "        'parameters': parameters,\n",
    "        'word_embeds': word_embeds\n",
    "    }\n",
    "    try:\n",
    "        cPickle.dump(mappings, f)\n",
    "    except:\n",
    "        None\n",
    "\n",
    "print('word_to_id: ', len(word_to_id))"
   ]
  },
  {
   "cell_type": "markdown",
   "metadata": {
    "id": "A8wKaprDpgGu"
   },
   "source": [
    "Your job is to replace the LSTM-based word-level\n",
    "encoder with a CNN layer (convolutional layer followed by an optional max pooling layer).\n",
    "The CNN layer should have the same output dimensions (out_channels) as the LSTM"
   ]
  },
  {
   "cell_type": "markdown",
   "metadata": {
    "id": "eu6kXlgTpgGu"
   },
   "source": [
    "### Model\n"
   ]
  },
  {
   "cell_type": "markdown",
   "metadata": {
    "id": "VzoydwT_pgGu"
   },
   "source": [
    "##### Initialization of weights"
   ]
  },
  {
   "cell_type": "code",
   "execution_count": 15,
   "metadata": {
    "ExecuteTime": {
     "end_time": "2020-11-20T15:51:12.364759Z",
     "start_time": "2020-11-20T15:51:12.356765Z"
    },
    "executionInfo": {
     "elapsed": 26882,
     "status": "ok",
     "timestamp": 1606305242901,
     "user": {
      "displayName": "Wong jun xiang",
      "photoUrl": "",
      "userId": "16719805263086576204"
     },
     "user_tz": -480
    },
    "id": "WC2RTafDpgGu"
   },
   "outputs": [],
   "source": [
    "def init_embedding(input_embedding):\n",
    "    \"\"\"\n",
    "    Initialize embedding\n",
    "    \"\"\"\n",
    "    bias = np.sqrt(3.0 / input_embedding.size(1))\n",
    "    nn.init.uniform(input_embedding, -bias, bias)"
   ]
  },
  {
   "cell_type": "code",
   "execution_count": 16,
   "metadata": {
    "ExecuteTime": {
     "end_time": "2020-11-20T15:54:29.109085Z",
     "start_time": "2020-11-20T15:54:29.101106Z"
    },
    "executionInfo": {
     "elapsed": 26879,
     "status": "ok",
     "timestamp": 1606305242901,
     "user": {
      "displayName": "Wong jun xiang",
      "photoUrl": "",
      "userId": "16719805263086576204"
     },
     "user_tz": -480
    },
    "id": "wtk5DgyfpgGu"
   },
   "outputs": [],
   "source": [
    "def init_linear(input_linear):\n",
    "    \"\"\"\n",
    "    Initialize linear transformation\n",
    "    \"\"\"\n",
    "    bias = np.sqrt(6.0 / (input_linear.weight.size(0) + input_linear.weight.size(1)))\n",
    "    nn.init.uniform(input_linear.weight, -bias, bias)\n",
    "    if input_linear.bias is not None:\n",
    "        input_linear.bias.data.zero_()"
   ]
  },
  {
   "cell_type": "code",
   "execution_count": 17,
   "metadata": {
    "ExecuteTime": {
     "end_time": "2020-11-20T15:59:43.585836Z",
     "start_time": "2020-11-20T15:59:43.571873Z"
    },
    "executionInfo": {
     "elapsed": 26876,
     "status": "ok",
     "timestamp": 1606305242901,
     "user": {
      "displayName": "Wong jun xiang",
      "photoUrl": "",
      "userId": "16719805263086576204"
     },
     "user_tz": -480
    },
    "id": "RDGA_IFTpgGu"
   },
   "outputs": [],
   "source": [
    "def init_lstm(input_lstm):\n",
    "    \"\"\"\n",
    "    Initialize lstm\n",
    "    \n",
    "    PyTorch weights parameters:\n",
    "    \n",
    "        weight_ih_l[k]: the learnable input-hidden weights of the k-th layer,\n",
    "            of shape `(hidden_size * input_size)` for `k = 0`. Otherwise, the shape is\n",
    "            `(hidden_size * hidden_size)`\n",
    "            \n",
    "        weight_hh_l[k]: the learnable hidden-hidden weights of the k-th layer,\n",
    "            of shape `(hidden_size * hidden_size)`            \n",
    "    \"\"\"\n",
    "    \n",
    "    # Weights init for forward layer\n",
    "    for ind in range(0, input_lstm.num_layers):\n",
    "        \n",
    "        ## Gets the weights Tensor from our model, for the input-hidden weights in our current layer\n",
    "        weight = eval('input_lstm.weight_ih_l' + str(ind))\n",
    "        \n",
    "        # Initialize the sampling range\n",
    "        sampling_range = np.sqrt(6.0 / (weight.size(0) / 4 + weight.size(1)))\n",
    "        \n",
    "        # Randomly sample from our samping range using uniform distribution and apply it to our current layer\n",
    "        nn.init.uniform(weight, -sampling_range, sampling_range)\n",
    "        \n",
    "        # Similar to above but for the hidden-hidden weights of the current layer\n",
    "        weight = eval('input_lstm.weight_hh_l' + str(ind))\n",
    "        sampling_range = np.sqrt(6.0 / (weight.size(0) / 4 + weight.size(1)))\n",
    "        nn.init.uniform(weight, -sampling_range, sampling_range)\n",
    "        \n",
    "        \n",
    "    # We do the above again, for the backward layer if we are using a bi-directional LSTM (our final model uses this)\n",
    "    if input_lstm.bidirectional:\n",
    "        for ind in range(0, input_lstm.num_layers):\n",
    "            weight = eval('input_lstm.weight_ih_l' + str(ind) + '_reverse')\n",
    "            sampling_range = np.sqrt(6.0 / (weight.size(0) / 4 + weight.size(1)))\n",
    "            nn.init.uniform(weight, -sampling_range, sampling_range)\n",
    "            weight = eval('input_lstm.weight_hh_l' + str(ind) + '_reverse')\n",
    "            sampling_range = np.sqrt(6.0 / (weight.size(0) / 4 + weight.size(1)))\n",
    "            nn.init.uniform(weight, -sampling_range, sampling_range)\n",
    "\n",
    "    # Bias initialization steps\n",
    "    \n",
    "    # We initialize them to zero except for the forget gate bias, which is initialized to 1\n",
    "    if input_lstm.bias:\n",
    "        for ind in range(0, input_lstm.num_layers):\n",
    "            bias = eval('input_lstm.bias_ih_l' + str(ind))\n",
    "            \n",
    "            # Initializing to zero\n",
    "            bias.data.zero_()\n",
    "            \n",
    "            # This is the range of indices for our forget gates for each LSTM cell\n",
    "            bias.data[input_lstm.hidden_size: 2 * input_lstm.hidden_size] = 1\n",
    "            \n",
    "            #Similar for the hidden-hidden layer\n",
    "            bias = eval('input_lstm.bias_hh_l' + str(ind))\n",
    "            bias.data.zero_()\n",
    "            bias.data[input_lstm.hidden_size: 2 * input_lstm.hidden_size] = 1\n",
    "            \n",
    "        # Similar to above, we do for backward layer if we are using a bi-directional LSTM \n",
    "        if input_lstm.bidirectional:\n",
    "            for ind in range(0, input_lstm.num_layers):\n",
    "                bias = eval('input_lstm.bias_ih_l' + str(ind) + '_reverse')\n",
    "                bias.data.zero_()\n",
    "                bias.data[input_lstm.hidden_size: 2 * input_lstm.hidden_size] = 1\n",
    "                bias = eval('input_lstm.bias_hh_l' + str(ind) + '_reverse')\n",
    "                bias.data.zero_()\n",
    "                bias.data[input_lstm.hidden_size: 2 * input_lstm.hidden_size] = 1"
   ]
  },
  {
   "cell_type": "markdown",
   "metadata": {
    "id": "Es6Y4TmxpgGu"
   },
   "source": [
    "##### Evaluation schemes: Forward pass and Viterbi algorithm"
   ]
  },
  {
   "cell_type": "markdown",
   "metadata": {
    "id": "C5WABOpcpgGu"
   },
   "source": [
    "##### Helper Functions"
   ]
  },
  {
   "cell_type": "code",
   "execution_count": 18,
   "metadata": {
    "ExecuteTime": {
     "end_time": "2020-11-20T15:59:51.439259Z",
     "start_time": "2020-11-20T15:59:51.431280Z"
    },
    "executionInfo": {
     "elapsed": 26873,
     "status": "ok",
     "timestamp": 1606305242902,
     "user": {
      "displayName": "Wong jun xiang",
      "photoUrl": "",
      "userId": "16719805263086576204"
     },
     "user_tz": -480
    },
    "id": "TI_4EpREpgGu"
   },
   "outputs": [],
   "source": [
    "def log_sum_exp(vec):\n",
    "    '''\n",
    "    This function calculates the score explained above for the forward algorithm\n",
    "    vec 2D: 1 * tagset_size\n",
    "    '''\n",
    "    max_score = vec[0, argmax(vec)]\n",
    "    max_score_broadcast = max_score.view(1, -1).expand(1, vec.size()[1])\n",
    "    return max_score + torch.log(torch.sum(torch.exp(vec - max_score_broadcast)))\n",
    "    \n",
    "def argmax(vec):\n",
    "    '''\n",
    "    This function returns the max index in a vector\n",
    "    '''\n",
    "    _, idx = torch.max(vec, 1)\n",
    "    return to_scalar(idx)\n",
    "\n",
    "def to_scalar(var):\n",
    "    '''\n",
    "    Function to convert pytorch tensor to a scalar\n",
    "    '''\n",
    "    return var.view(-1).data.tolist()[0]"
   ]
  },
  {
   "cell_type": "code",
   "execution_count": 19,
   "metadata": {
    "ExecuteTime": {
     "end_time": "2020-11-20T16:00:01.897093Z",
     "start_time": "2020-11-20T16:00:01.889142Z"
    },
    "executionInfo": {
     "elapsed": 26870,
     "status": "ok",
     "timestamp": 1606305242902,
     "user": {
      "displayName": "Wong jun xiang",
      "photoUrl": "",
      "userId": "16719805263086576204"
     },
     "user_tz": -480
    },
    "id": "LEjOTa1dpgGu"
   },
   "outputs": [],
   "source": [
    "def score_sentences(self, feats, tags):\n",
    "    # tags is ground_truth, a list of ints, length is len(sentence)\n",
    "    # feats is a 2D tensor, len(sentence) * tagset_size\n",
    "    r = torch.LongTensor(range(feats.size()[0]))\n",
    "    if self.use_gpu:\n",
    "        r = r.cuda()\n",
    "        pad_start_tags = torch.cat([torch.cuda.LongTensor([self.tag_to_ix[START_TAG]]), tags])\n",
    "        pad_stop_tags = torch.cat([tags, torch.cuda.LongTensor([self.tag_to_ix[STOP_TAG]])])\n",
    "    else:\n",
    "        pad_start_tags = torch.cat([torch.LongTensor([self.tag_to_ix[START_TAG]]), tags])\n",
    "        pad_stop_tags = torch.cat([tags, torch.LongTensor([self.tag_to_ix[STOP_TAG]])])\n",
    "\n",
    "    score = torch.sum(self.transitions[pad_stop_tags, pad_start_tags]) + torch.sum(feats[r, tags])\n",
    "\n",
    "    return score"
   ]
  },
  {
   "cell_type": "markdown",
   "metadata": {
    "id": "Pkh3HFF_pgGu"
   },
   "source": [
    "##### Implementation of Forward Algorithm"
   ]
  },
  {
   "cell_type": "code",
   "execution_count": 20,
   "metadata": {
    "ExecuteTime": {
     "end_time": "2020-11-20T16:00:12.389264Z",
     "start_time": "2020-11-20T16:00:12.380281Z"
    },
    "executionInfo": {
     "elapsed": 26866,
     "status": "ok",
     "timestamp": 1606305242903,
     "user": {
      "displayName": "Wong jun xiang",
      "photoUrl": "",
      "userId": "16719805263086576204"
     },
     "user_tz": -480
    },
    "id": "9Eyxi4xqpgGu"
   },
   "outputs": [],
   "source": [
    "def forward_alg(self, feats):\n",
    "    '''\n",
    "    This function performs the forward algorithm explained above\n",
    "    '''\n",
    "    # calculate in log domain\n",
    "    # feats is len(sentence) * tagset_size\n",
    "    # initialize alpha with a Tensor with values all equal to -10000.\n",
    "    \n",
    "    # Do the forward algorithm to compute the partition function\n",
    "    init_alphas = torch.Tensor(1, self.tagset_size).fill_(-10000.)\n",
    "    \n",
    "    # START_TAG has all of the score.\n",
    "    init_alphas[0][self.tag_to_ix[START_TAG]] = 0.\n",
    "    \n",
    "    # Wrap in a variable so that we will get automatic backprop\n",
    "    forward_var = autograd.Variable(init_alphas)\n",
    "    if self.use_gpu:\n",
    "        forward_var = forward_var.cuda()\n",
    "        \n",
    "    # Iterate through the sentence\n",
    "    for feat in feats:\n",
    "        # broadcast the emission score: it is the same regardless of\n",
    "        # the previous tag\n",
    "        emit_score = feat.view(-1, 1)\n",
    "        \n",
    "        # the ith entry of trans_score is the score of transitioning to\n",
    "        # next_tag from i\n",
    "        tag_var = forward_var + self.transitions + emit_score\n",
    "        \n",
    "        # The ith entry of next_tag_var is the value for the\n",
    "        # edge (i -> next_tag) before we do log-sum-exp\n",
    "        max_tag_var, _ = torch.max(tag_var, dim=1)\n",
    "        \n",
    "        # The forward variable for this tag is log-sum-exp of all the\n",
    "        # scores.\n",
    "        tag_var = tag_var - max_tag_var.view(-1, 1)\n",
    "        \n",
    "        # Compute log sum exp in a numerically stable way for the forward algorithm\n",
    "        forward_var = max_tag_var + torch.log(torch.sum(torch.exp(tag_var), dim=1)).view(1, -1) # ).view(1, -1)\n",
    "    terminal_var = (forward_var + self.transitions[self.tag_to_ix[STOP_TAG]]).view(1, -1)\n",
    "    alpha = log_sum_exp(terminal_var)\n",
    "    # Z(x)\n",
    "    return alpha"
   ]
  },
  {
   "cell_type": "markdown",
   "metadata": {
    "id": "hvB7k5zApgGu"
   },
   "source": [
    "##### Implementation of Viterbi Algorithm"
   ]
  },
  {
   "cell_type": "code",
   "execution_count": 21,
   "metadata": {
    "ExecuteTime": {
     "end_time": "2020-11-20T16:00:16.904048Z",
     "start_time": "2020-11-20T16:00:16.891084Z"
    },
    "executionInfo": {
     "elapsed": 26863,
     "status": "ok",
     "timestamp": 1606305242903,
     "user": {
      "displayName": "Wong jun xiang",
      "photoUrl": "",
      "userId": "16719805263086576204"
     },
     "user_tz": -480
    },
    "id": "KqDk5YcBpgGu"
   },
   "outputs": [],
   "source": [
    "def viterbi_algo(self, feats):\n",
    "    '''\n",
    "    In this function, we implement the viterbi algorithm explained above.\n",
    "    A Dynamic programming based approach to find the best tag sequence\n",
    "    '''\n",
    "    backpointers = []\n",
    "    # analogous to forward\n",
    "    \n",
    "    # Initialize the viterbi variables in log space\n",
    "    init_vvars = torch.Tensor(1, self.tagset_size).fill_(-10000.)\n",
    "    init_vvars[0][self.tag_to_ix[START_TAG]] = 0\n",
    "    \n",
    "    # forward_var at step i holds the viterbi variables for step i-1\n",
    "    forward_var = Variable(init_vvars)\n",
    "    if self.use_gpu:\n",
    "        forward_var = forward_var.cuda()\n",
    "    for feat in feats:\n",
    "        next_tag_var = forward_var.view(1, -1).expand(self.tagset_size, self.tagset_size) + self.transitions\n",
    "        _, bptrs_t = torch.max(next_tag_var, dim=1)\n",
    "        bptrs_t = bptrs_t.squeeze().data.cpu().numpy() # holds the backpointers for this step\n",
    "        next_tag_var = next_tag_var.data.cpu().numpy() \n",
    "        viterbivars_t = next_tag_var[range(len(bptrs_t)), bptrs_t] # holds the viterbi variables for this step\n",
    "        viterbivars_t = Variable(torch.FloatTensor(viterbivars_t))\n",
    "        if self.use_gpu:\n",
    "            viterbivars_t = viterbivars_t.cuda()\n",
    "            \n",
    "        # Now add in the emission scores, and assign forward_var to the set\n",
    "        # of viterbi variables we just computed\n",
    "        forward_var = viterbivars_t + feat\n",
    "        backpointers.append(bptrs_t)\n",
    "\n",
    "    # Transition to STOP_TAG\n",
    "    terminal_var = forward_var + self.transitions[self.tag_to_ix[STOP_TAG]]\n",
    "    terminal_var.data[self.tag_to_ix[STOP_TAG]] = -10000.\n",
    "    terminal_var.data[self.tag_to_ix[START_TAG]] = -10000.\n",
    "    best_tag_id = argmax(terminal_var.unsqueeze(0))\n",
    "    path_score = terminal_var[best_tag_id]\n",
    "    \n",
    "    # Follow the back pointers to decode the best path.\n",
    "    best_path = [best_tag_id]\n",
    "    for bptrs_t in reversed(backpointers):\n",
    "        best_tag_id = bptrs_t[best_tag_id]\n",
    "        best_path.append(best_tag_id)\n",
    "        \n",
    "    # Pop off the start tag (we dont want to return that to the caller)\n",
    "    start = best_path.pop()\n",
    "    assert start == self.tag_to_ix[START_TAG] # Sanity check\n",
    "    best_path.reverse()\n",
    "    return path_score, best_path"
   ]
  },
  {
   "cell_type": "code",
   "execution_count": 22,
   "metadata": {
    "ExecuteTime": {
     "end_time": "2020-11-20T16:00:19.161218Z",
     "start_time": "2020-11-20T16:00:19.154243Z"
    },
    "executionInfo": {
     "elapsed": 26860,
     "status": "ok",
     "timestamp": 1606305242903,
     "user": {
      "displayName": "Wong jun xiang",
      "photoUrl": "",
      "userId": "16719805263086576204"
     },
     "user_tz": -480
    },
    "id": "mBoJqHGcpgGu"
   },
   "outputs": [],
   "source": [
    "def forward_calc(self, sentence, chars, chars2_length, d):\n",
    "    \n",
    "    '''\n",
    "    The function calls viterbi decode and generates the \n",
    "    most probable sequence of tags for the sentence\n",
    "    '''\n",
    "    \n",
    "    # Get the emission scores from the BiLSTM\n",
    "    feats = self._get_lstm_features(sentence, chars, chars2_length, d)\n",
    "    # viterbi to get tag_seq\n",
    "    \n",
    "    # Find the best path, given the features.\n",
    "    if self.use_crf:\n",
    "        score, tag_seq = self.viterbi_decode(feats)\n",
    "    else:\n",
    "        score, tag_seq = torch.max(feats, 1)\n",
    "        tag_seq = list(tag_seq.cpu().data)\n",
    "\n",
    "    return score, tag_seq"
   ]
  },
  {
   "cell_type": "markdown",
   "metadata": {
    "id": "K0tkeE4ZpgGu"
   },
   "source": [
    "### Details fo the Model"
   ]
  },
  {
   "cell_type": "markdown",
   "metadata": {
    "id": "EZfTNBPzpgGu"
   },
   "source": [
    "##### Main Model Implementation"
   ]
  },
  {
   "cell_type": "markdown",
   "metadata": {
    "id": "KXUyb7HMpgGu"
   },
   "source": [
    "The get_lstm_features function returns the LSTM's tag vectors. The function performs all the steps mentioned above for the model.\n",
    "\n",
    "Steps:\n",
    "1. It takes in characters, converts them to embeddings using our character CNN.\n",
    "2. We concat Character Embeeding with glove vectors, use this as features that we feed to Bidirectional-LSTM. \n",
    "3. The Bidirectional-LSTM generates outputs based on these set of features.\n",
    "4. The output are passed through a linear layer to convert to tag space."
   ]
  },
  {
   "cell_type": "code",
   "execution_count": 23,
   "metadata": {
    "ExecuteTime": {
     "end_time": "2020-11-20T16:00:22.182066Z",
     "start_time": "2020-11-20T16:00:22.166139Z"
    },
    "executionInfo": {
     "elapsed": 26857,
     "status": "ok",
     "timestamp": 1606305242904,
     "user": {
      "displayName": "Wong jun xiang",
      "photoUrl": "",
      "userId": "16719805263086576204"
     },
     "user_tz": -480
    },
    "id": "CkjxwS8IpgGu"
   },
   "outputs": [],
   "source": [
    "def get_lstm_features(self, sentence, chars2, chars2_length, d):\n",
    "    \n",
    "    if self.char_mode == 'LSTM':\n",
    "        \n",
    "            chars_embeds = self.char_embeds(chars2).transpose(0, 1)\n",
    "            \n",
    "            packed = torch.nn.utils.rnn.pack_padded_sequence(chars_embeds, chars2_length)\n",
    "            \n",
    "            lstm_out, _ = self.char_lstm(packed)\n",
    "            \n",
    "            outputs, output_lengths = torch.nn.utils.rnn.pad_packed_sequence(lstm_out)\n",
    "            \n",
    "            outputs = outputs.transpose(0, 1)\n",
    "            \n",
    "            chars_embeds_temp = Variable(torch.FloatTensor(torch.zeros((outputs.size(0), outputs.size(2)))))\n",
    "            \n",
    "            if self.use_gpu:\n",
    "                chars_embeds_temp = chars_embeds_temp.cuda()\n",
    "            \n",
    "            for i, index in enumerate(output_lengths):\n",
    "                chars_embeds_temp[i] = torch.cat((outputs[i, index-1, :self.char_lstm_dim], outputs[i, 0, self.char_lstm_dim:]))\n",
    "            \n",
    "            chars_embeds = chars_embeds_temp.clone()\n",
    "            \n",
    "            for i in range(chars_embeds.size(0)):\n",
    "                chars_embeds[d[i]] = chars_embeds_temp[i]\n",
    "    \n",
    "    \n",
    "    if self.char_mode == 'CNN':\n",
    "        chars_embeds = self.char_embeds(chars2).unsqueeze(1)\n",
    "\n",
    "        ## Creating Character level representation using Convolutional Neural Netowrk\n",
    "        ## followed by a Maxpooling Layer\n",
    "        chars_cnn_out3 = self.char_cnn3(chars_embeds)\n",
    "        chars_embeds = nn.functional.max_pool2d(chars_cnn_out3,\n",
    "                                             kernel_size=(chars_cnn_out3.size(2), 1)).view(chars_cnn_out3.size(0), self.out_channels)\n",
    "\n",
    "        ## Loading word embeddings\n",
    "    embeds = self.word_embeds(sentence)\n",
    "\n",
    "    ## We concatenate the word embeddings and the character level representation\n",
    "    ## to create unified representation for each word\n",
    "    embeds = torch.cat((embeds, chars_embeds), 1)\n",
    "\n",
    "    embeds = embeds.unsqueeze(1)\n",
    "\n",
    "    ## Dropout on the unified embeddings\n",
    "    embeds = self.dropout(embeds)\n",
    "\n",
    "#     ## Word lstm\n",
    "#     ## Takes words as input and generates a output at each step\n",
    "#     lstm_out, _ = self.lstm(embeds)\n",
    "\n",
    "#     ## Reshaping the outputs from the lstm layer\n",
    "#     lstm_out = lstm_out.view(len(sentence), self.hidden_dim*2)\n",
    "\n",
    "#     ## Dropout on the lstm output\n",
    "#     lstm_out = self.dropout(lstm_out)\n",
    "\n",
    "#     ## Linear layer converts the ouput vectors to tag space\n",
    "#     lstm_feats = self.hidden2tag(lstm_out)\n",
    "    \n",
    "    #word CNN\n",
    "    cnn_out = self.conv(embeds)\n",
    "\n",
    "    cnn_out = self.conv1(cnn_out) \n",
    "\n",
    "    cnn_out = cnn_out.view(len(sentence),  self.hidden_dim*2)\n",
    "    \n",
    "    cnn_feats = self.hidden2tag(cnn_out)\n",
    "    \n",
    "    return cnn_feats"
   ]
  },
  {
   "cell_type": "markdown",
   "metadata": {
    "id": "G_PRheqGpgGu"
   },
   "source": [
    "##### Funtion for Negative log likelihood calculation"
   ]
  },
  {
   "cell_type": "code",
   "execution_count": 24,
   "metadata": {
    "ExecuteTime": {
     "end_time": "2020-11-20T16:00:24.720041Z",
     "start_time": "2020-11-20T16:00:24.710068Z"
    },
    "executionInfo": {
     "elapsed": 26854,
     "status": "ok",
     "timestamp": 1606305242904,
     "user": {
      "displayName": "Wong jun xiang",
      "photoUrl": "",
      "userId": "16719805263086576204"
     },
     "user_tz": -480
    },
    "id": "wwwLDi3cpgGu"
   },
   "outputs": [],
   "source": [
    "def get_neg_log_likelihood(self, sentence, tags, chars2, chars2_length, d):\n",
    "    # sentence, tags is a list of ints\n",
    "    # features is a 2D tensor, len(sentence) * self.tagset_size\n",
    "    feats = self._get_lstm_features(sentence, chars2, chars2_length, d)\n",
    "\n",
    "    if self.use_crf:\n",
    "        forward_score = self._forward_alg(feats)\n",
    "        gold_score = self._score_sentence(feats, tags)\n",
    "        return forward_score - gold_score\n",
    "    else:\n",
    "        tags = Variable(tags)\n",
    "        scores = nn.functional.cross_entropy(feats, tags)\n",
    "        return scores"
   ]
  },
  {
   "cell_type": "markdown",
   "metadata": {
    "id": "G3vxPW8JpgGv"
   },
   "source": [
    "##### Main Model Class"
   ]
  },
  {
   "cell_type": "code",
   "execution_count": 25,
   "metadata": {
    "ExecuteTime": {
     "end_time": "2020-11-20T16:09:58.149221Z",
     "start_time": "2020-11-20T16:09:58.132266Z"
    },
    "executionInfo": {
     "elapsed": 27280,
     "status": "ok",
     "timestamp": 1606305243333,
     "user": {
      "displayName": "Wong jun xiang",
      "photoUrl": "",
      "userId": "16719805263086576204"
     },
     "user_tz": -480
    },
    "id": "_TAXtdAxpgGv"
   },
   "outputs": [],
   "source": [
    "class BiLSTM_CRF(nn.Module):\n",
    "\n",
    "    def __init__(self, vocab_size, tag_to_ix, embedding_dim, hidden_dim,\n",
    "                 char_to_ix=None, pre_word_embeds=None, char_out_dimension=25,char_embedding_dim=25, use_gpu=False\n",
    "                 , use_crf=True, char_mode='CNN'): \n",
    "        '''\n",
    "        Input parameters:\n",
    "                \n",
    "                vocab_size= Size of vocabulary (int)\n",
    "                tag_to_ix = Dictionary that maps NER tags to indices\n",
    "                embedding_dim = Dimension of word embeddings (int)\n",
    "                hidden_dim = The hidden dimension of the LSTM layer (int)\n",
    "                char_to_ix = Dictionary that maps characters to indices\n",
    "                pre_word_embeds = Numpy array which provides mapping from word embeddings to word indices\n",
    "                char_out_dimension = Output dimension from the CNN encoder for character\n",
    "                char_embedding_dim = Dimension of the character embeddings\n",
    "                use_gpu = defines availability of GPU, \n",
    "                    when True: CUDA function calls are made\n",
    "                    else: Normal CPU function calls are made\n",
    "                use_crf = parameter which decides if you want to use the CRF layer for output decoding\n",
    "        '''\n",
    "        \n",
    "        super(BiLSTM_CRF, self).__init__()\n",
    "        \n",
    "        #parameter initialization for the model\n",
    "        self.use_gpu = use_gpu\n",
    "        self.embedding_dim = embedding_dim\n",
    "        self.hidden_dim = hidden_dim\n",
    "        self.vocab_size = vocab_size\n",
    "        self.tag_to_ix = tag_to_ix\n",
    "        self.use_crf = use_crf\n",
    "        self.tagset_size = len(tag_to_ix)\n",
    "        self.out_channels = char_out_dimension\n",
    "        self.char_mode = char_mode\n",
    "\n",
    "        if char_embedding_dim is not None:\n",
    "            self.char_embedding_dim = char_embedding_dim\n",
    "            \n",
    "            #Initializing the character embedding layer\n",
    "            self.char_embeds = nn.Embedding(len(char_to_ix), char_embedding_dim)\n",
    "            init_embedding(self.char_embeds.weight)\n",
    "            \n",
    "            #Performing LSTM encoding on the character embeddings\n",
    "            if self.char_mode == 'LSTM':\n",
    "                self.char_lstm = nn.LSTM(char_embedding_dim, char_lstm_dim, num_layers=1, bidirectional=True)\n",
    "                init_lstm(self.char_lstm)\n",
    "                \n",
    "            #Performing CNN encoding on the character embeddings\n",
    "            if self.char_mode == 'CNN':\n",
    "                self.char_cnn3 = nn.Conv2d(in_channels=1, out_channels=self.out_channels, kernel_size=(3, char_embedding_dim), padding=(2,0))\n",
    "\n",
    "        #Creating Embedding layer with dimension of ( number of words * dimension of each word)\n",
    "        self.word_embeds = nn.Embedding(vocab_size, embedding_dim)\n",
    "        if pre_word_embeds is not None:\n",
    "            #Initializes the word embeddings with pretrained word embeddings\n",
    "            self.pre_word_embeds = True\n",
    "            self.word_embeds.weight = nn.Parameter(torch.FloatTensor(pre_word_embeds))\n",
    "        else:\n",
    "            self.pre_word_embeds = False\n",
    "    \n",
    "        #Initializing the dropout layer, with dropout specificed in parameters\n",
    "        self.dropout = nn.Dropout(parameters['dropout'])\n",
    "        \n",
    "        #Lstm Layer:\n",
    "        #input dimension: word embedding dimension + character level representation\n",
    "        #bidirectional=True, specifies that we are using the bidirectional LSTM\n",
    "        if self.char_mode == 'LSTM':\n",
    "            self.lstm = nn.LSTM(embedding_dim+char_lstm_dim*2, hidden_dim, bidirectional=True)\n",
    "        if self.char_mode == 'CNN':\n",
    "#todo:            #replacing lstm layer with CNN layer\n",
    "\n",
    "            self.conv = nn.Conv1d(in_channels=1, out_channels=hidden_dim*2, kernel_size=(self.out_channels))\n",
    "            self.conv1 = nn.Conv1d(in_channels=hidden_dim*2, out_channels=hidden_dim*2, kernel_size=(embedding_dim+1))\n",
    "#             self.lstm = nn.LSTM(embedding_dim+self.out_channels, hidden_dim, bidirectional=True)\n",
    "\n",
    "        \"\"\"\n",
    "        #Initializing the lstm layer using predefined function for initialization\n",
    "        init_lstm(self.lstm)\"\"\"\n",
    "        \n",
    "        # Linear layer which maps the output of the bidirectional LSTM into tag space.\n",
    "        self.hidden2tag = nn.Linear(hidden_dim*2, self.tagset_size)\n",
    "        \n",
    "        #Initializing the linear layer using predefined function for initialization\n",
    "        init_linear(self.hidden2tag)\n",
    "        \n",
    "\n",
    "        if self.use_crf:\n",
    "            # Matrix of transition parameters.  Entry i,j is the score of transitioning *to* i *from* j.\n",
    "            # Matrix has a dimension of (total number of tags * total number of tags)\n",
    "            self.transitions = nn.Parameter(\n",
    "                torch.zeros(self.tagset_size, self.tagset_size))\n",
    "            \n",
    "            # These two statements enforce the constraint that we never transfer\n",
    "            # to the start tag and we never transfer from the stop tag\n",
    "            self.transitions.data[tag_to_ix[START_TAG], :] = -10000\n",
    "            self.transitions.data[:, tag_to_ix[STOP_TAG]] = -10000\n",
    "\n",
    "    #assigning the functions, which we have defined earlier\n",
    "    _score_sentence = score_sentences\n",
    "    _get_lstm_features = get_lstm_features\n",
    "    _forward_alg = forward_alg\n",
    "    viterbi_decode = viterbi_algo\n",
    "    neg_log_likelihood = get_neg_log_likelihood\n",
    "    forward = forward_calc"
   ]
  },
  {
   "cell_type": "code",
   "execution_count": 26,
   "metadata": {
    "ExecuteTime": {
     "end_time": "2020-11-20T16:10:00.955406Z",
     "start_time": "2020-11-20T16:10:00.927482Z"
    },
    "colab": {
     "base_uri": "https://localhost:8080/"
    },
    "executionInfo": {
     "elapsed": 29682,
     "status": "ok",
     "timestamp": 1606305245739,
     "user": {
      "displayName": "Wong jun xiang",
      "photoUrl": "",
      "userId": "16719805263086576204"
     },
     "user_tz": -480
    },
    "id": "iglKPSkqpgGv",
    "outputId": "8f343f33-4a24-4228-de7b-b1f7d4bcb045"
   },
   "outputs": [
    {
     "name": "stderr",
     "output_type": "stream",
     "text": [
      "C:\\Users\\wjx15\\Anaconda3\\envs\\env2\\lib\\site-packages\\ipykernel_launcher.py:6: UserWarning: nn.init.uniform is now deprecated in favor of nn.init.uniform_.\n",
      "  \n"
     ]
    },
    {
     "name": "stdout",
     "output_type": "stream",
     "text": [
      "Model Initialized with gpu!!!\n"
     ]
    }
   ],
   "source": [
    "#creating the model using the Class defined above\n",
    "model = BiLSTM_CRF(vocab_size=len(word_to_id),\n",
    "                   tag_to_ix=tag_to_id,\n",
    "                   embedding_dim=parameters['word_dim'],\n",
    "                   hidden_dim=parameters['word_lstm_dim'],\n",
    "                   use_gpu=use_gpu,\n",
    "                   char_to_ix=char_to_id,\n",
    "                   pre_word_embeds=word_embeds,\n",
    "                   use_crf=parameters['crf'],\n",
    "                   char_mode=parameters['char_mode'])\n",
    "if use_gpu:\n",
    "    model.cuda()\n",
    "    \n",
    "    print(\"Model Initialized with gpu!!!\")\n",
    "\n",
    "else:\n",
    "    \n",
    "    print(\"Model Initialized!!!\")"
   ]
  },
  {
   "cell_type": "code",
   "execution_count": 27,
   "metadata": {
    "colab": {
     "base_uri": "https://localhost:8080/"
    },
    "executionInfo": {
     "elapsed": 29680,
     "status": "ok",
     "timestamp": 1606305245740,
     "user": {
      "displayName": "Wong jun xiang",
      "photoUrl": "",
      "userId": "16719805263086576204"
     },
     "user_tz": -480
    },
    "id": "riL7y46GpgGv",
    "outputId": "53a457d9-5af5-4421-df64-f1686947b6cd"
   },
   "outputs": [
    {
     "data": {
      "text/plain": [
       "BiLSTM_CRF(\n",
       "  (char_embeds): Embedding(75, 25)\n",
       "  (char_cnn3): Conv2d(1, 25, kernel_size=(3, 25), stride=(1, 1), padding=(2, 0))\n",
       "  (word_embeds): Embedding(17493, 100)\n",
       "  (dropout): Dropout(p=0.5, inplace=False)\n",
       "  (conv): Conv1d(1, 400, kernel_size=(25,), stride=(1,))\n",
       "  (conv1): Conv1d(400, 400, kernel_size=(101,), stride=(1,))\n",
       "  (hidden2tag): Linear(in_features=400, out_features=19, bias=True)\n",
       ")"
      ]
     },
     "execution_count": 27,
     "metadata": {},
     "output_type": "execute_result"
    }
   ],
   "source": [
    "model"
   ]
  },
  {
   "cell_type": "code",
   "execution_count": 28,
   "metadata": {
    "ExecuteTime": {
     "end_time": "2020-11-20T16:00:32.961202Z",
     "start_time": "2020-11-20T16:00:32.923311Z"
    },
    "executionInfo": {
     "elapsed": 29677,
     "status": "ok",
     "timestamp": 1606305245740,
     "user": {
      "displayName": "Wong jun xiang",
      "photoUrl": "",
      "userId": "16719805263086576204"
     },
     "user_tz": -480
    },
    "id": "8O6wIc6dpgGv"
   },
   "outputs": [],
   "source": [
    "# #Reload a saved model, if parameter[\"reload\"] is set to a path\n",
    "# if parameters['reload']:\n",
    "#     if not os.path.exists(parameters['reload']):\n",
    "#         print(\"downloading pre-trained model\")\n",
    "#         model_url=\"https://github.com/TheAnig/NER-LSTM-CNN-Pytorch/raw/master/trained-model-cpu\"\n",
    "#         urllib.request.urlretrieve(model_url, parameters['reload'])\n",
    "#     model.load_state_dict(torch.load(parameters['reload']))\n",
    "#     print(\"model reloaded :\", parameters['reload'])\n",
    "\n",
    "# if use_gpu:\n",
    "#     model.cuda()"
   ]
  },
  {
   "cell_type": "markdown",
   "metadata": {
    "id": "3PRK8hwjpgGv"
   },
   "source": [
    "##### Training Paramaters"
   ]
  },
  {
   "cell_type": "code",
   "execution_count": 29,
   "metadata": {
    "ExecuteTime": {
     "end_time": "2020-11-20T16:07:51.704112Z",
     "start_time": "2020-11-20T16:07:51.698129Z"
    },
    "executionInfo": {
     "elapsed": 29674,
     "status": "ok",
     "timestamp": 1606305245741,
     "user": {
      "displayName": "Wong jun xiang",
      "photoUrl": "",
      "userId": "16719805263086576204"
     },
     "user_tz": -480
    },
    "id": "JrsuBQnEpgGv"
   },
   "outputs": [],
   "source": [
    "#Initializing the optimizer\n",
    "#The best results in the paper where achived using stochastic gradient descent (SGD) \n",
    "#learning rate=0.015 and momentum=0.9 \n",
    "#decay_rate=0.05 \n",
    "\n",
    "learning_rate = 0.015\n",
    "momentum = 0.9\n",
    "number_of_epochs = parameters['epoch'] \n",
    "decay_rate = 0.05\n",
    "gradient_clip = parameters['gradient_clip']\n",
    "optimizer = torch.optim.SGD(model.parameters(), lr=learning_rate, momentum=momentum)\n",
    "\n",
    "#variables which will used in training process\n",
    "losses = [] #list to store all losses\n",
    "loss = 0.0 #Loss Initializatoin\n",
    "best_dev_F = -1.0 # Current best F-1 Score on Dev Set\n",
    "best_test_F = -1.0 # Current best F-1 Score on Test Set\n",
    "best_train_F = -1.0 # Current best F-1 Score on Train Set\n",
    "all_F = [[0, 0, 0]] # List storing all the F-1 Scores\n",
    "eval_every = len(train_data) # Calculate F-1 Score after this many iterations\n",
    "plot_every = 2000 # Store loss after this many iterations\n",
    "count = 0 #Counts the number of iterations"
   ]
  },
  {
   "cell_type": "markdown",
   "metadata": {
    "id": "cxi3iaiEpgGv"
   },
   "source": [
    "\n",
    "### Evaluation"
   ]
  },
  {
   "cell_type": "markdown",
   "metadata": {
    "id": "jiltbxJYpgGv"
   },
   "source": [
    "##### Helper functions for evaluation"
   ]
  },
  {
   "cell_type": "code",
   "execution_count": 30,
   "metadata": {
    "ExecuteTime": {
     "end_time": "2020-11-20T16:00:38.031580Z",
     "start_time": "2020-11-20T16:00:38.026593Z"
    },
    "executionInfo": {
     "elapsed": 29671,
     "status": "ok",
     "timestamp": 1606305245741,
     "user": {
      "displayName": "Wong jun xiang",
      "photoUrl": "",
      "userId": "16719805263086576204"
     },
     "user_tz": -480
    },
    "id": "qvxOzzEZpgGv"
   },
   "outputs": [],
   "source": [
    "def get_chunk_type(tok, idx_to_tag):\n",
    "    \"\"\"\n",
    "    The function takes in a chunk (\"B-PER\") and then splits it into the tag (PER) and its class (B)\n",
    "    as defined in BIOES\n",
    "    \n",
    "    Args:\n",
    "        tok: id of token, ex 4\n",
    "        idx_to_tag: dictionary {4: \"B-PER\", ...}\n",
    "\n",
    "    Returns:\n",
    "        tuple: \"B\", \"PER\"\n",
    "\n",
    "    \"\"\"\n",
    "    \n",
    "    tag_name = idx_to_tag[tok]\n",
    "    tag_class = tag_name.split('-')[0]\n",
    "    tag_type = tag_name.split('-')[-1]\n",
    "    return tag_class, tag_type"
   ]
  },
  {
   "cell_type": "code",
   "execution_count": 31,
   "metadata": {
    "ExecuteTime": {
     "end_time": "2020-11-20T16:00:39.947994Z",
     "start_time": "2020-11-20T16:00:39.940015Z"
    },
    "executionInfo": {
     "elapsed": 29668,
     "status": "ok",
     "timestamp": 1606305245741,
     "user": {
      "displayName": "Wong jun xiang",
      "photoUrl": "",
      "userId": "16719805263086576204"
     },
     "user_tz": -480
    },
    "id": "t0JmT5i6pgGv"
   },
   "outputs": [],
   "source": [
    "def get_chunks(seq, tags):\n",
    "    \"\"\"Given a sequence of tags, group entities and their position\n",
    "\n",
    "    Args:\n",
    "        seq: [4, 4, 0, 0, ...] sequence of labels\n",
    "        tags: dict[\"O\"] = 4\n",
    "\n",
    "    Returns:\n",
    "        list of (chunk_type, chunk_start, chunk_end)\n",
    "\n",
    "    Example:\n",
    "        seq = [4, 5, 0, 3]\n",
    "        tags = {\"B-PER\": 4, \"I-PER\": 5, \"B-LOC\": 3}\n",
    "        result = [(\"PER\", 0, 2), (\"LOC\", 3, 4)]\n",
    "\n",
    "    \"\"\"\n",
    "    \n",
    "    # We assume by default the tags lie outside a named entity\n",
    "    default = tags[\"O\"]\n",
    "    \n",
    "    idx_to_tag = {idx: tag for tag, idx in tags.items()}\n",
    "    \n",
    "    chunks = []\n",
    "    \n",
    "    chunk_type, chunk_start = None, None\n",
    "    for i, tok in enumerate(seq):\n",
    "        # End of a chunk 1\n",
    "        if tok == default and chunk_type is not None:\n",
    "            # Add a chunk.\n",
    "            chunk = (chunk_type, chunk_start, i)\n",
    "            chunks.append(chunk)\n",
    "            chunk_type, chunk_start = None, None\n",
    "\n",
    "        # End of a chunk + start of a chunk!\n",
    "        elif tok != default:\n",
    "            tok_chunk_class, tok_chunk_type = get_chunk_type(tok, idx_to_tag)\n",
    "            if chunk_type is None:\n",
    "                # Initialize chunk for each entity\n",
    "                chunk_type, chunk_start = tok_chunk_type, i\n",
    "            elif tok_chunk_type != chunk_type or tok_chunk_class == \"B\":\n",
    "                # If chunk class is B, i.e., its a beginning of a new named entity\n",
    "                # or, if the chunk type is different from the previous one, then we\n",
    "                # start labelling it as a new entity\n",
    "                chunk = (chunk_type, chunk_start, i)\n",
    "                chunks.append(chunk)\n",
    "                chunk_type, chunk_start = tok_chunk_type, i\n",
    "        else:\n",
    "            pass\n",
    "\n",
    "    # end condition\n",
    "    if chunk_type is not None:\n",
    "        chunk = (chunk_type, chunk_start, len(seq))\n",
    "        chunks.append(chunk)\n",
    "\n",
    "    return chunks"
   ]
  },
  {
   "cell_type": "code",
   "execution_count": 32,
   "metadata": {
    "ExecuteTime": {
     "end_time": "2020-11-20T16:00:42.208299Z",
     "start_time": "2020-11-20T16:00:42.192345Z"
    },
    "executionInfo": {
     "elapsed": 29665,
     "status": "ok",
     "timestamp": 1606305245742,
     "user": {
      "displayName": "Wong jun xiang",
      "photoUrl": "",
      "userId": "16719805263086576204"
     },
     "user_tz": -480
    },
    "id": "gdb53oBcpgGv"
   },
   "outputs": [],
   "source": [
    "def evaluating(model, datas, best_F,dataset=\"Train\"):\n",
    "    '''\n",
    "    The function takes as input the model, data and calcuates F-1 Score\n",
    "    It performs conditional updates \n",
    "     1) Flag to save the model \n",
    "     2) Best F-1 score\n",
    "    ,if the F-1 score calculated improves on the previous F-1 score\n",
    "    '''\n",
    "    # Initializations\n",
    "    prediction = [] # A list that stores predicted tags\n",
    "    save = False # Flag that tells us if the model needs to be saved\n",
    "    new_F = 0.0 # Variable to store the current F1-Score (may not be the best)\n",
    "    correct_preds, total_correct, total_preds = 0., 0., 0. # Count variables\n",
    "    \n",
    "    for data in datas:\n",
    "        ground_truth_id = data['tags']\n",
    "        words = data['str_words']\n",
    "        chars2 = data['chars']\n",
    "        \n",
    "        if parameters['char_mode'] == 'LSTM':\n",
    "            chars2_sorted = sorted(chars2, key=lambda p: len(p), reverse=True)\n",
    "            d = {}\n",
    "            for i, ci in enumerate(chars2):\n",
    "                for j, cj in enumerate(chars2_sorted):\n",
    "                    if ci == cj and not j in d and not i in d.values():\n",
    "                        d[j] = i\n",
    "                        continue\n",
    "            chars2_length = [len(c) for c in chars2_sorted]\n",
    "            char_maxl = max(chars2_length)\n",
    "            chars2_mask = np.zeros((len(chars2_sorted), char_maxl), dtype='int')\n",
    "            for i, c in enumerate(chars2_sorted):\n",
    "                chars2_mask[i, :chars2_length[i]] = c\n",
    "            chars2_mask = Variable(torch.LongTensor(chars2_mask))\n",
    "        \n",
    "        \n",
    "        if parameters['char_mode'] == 'CNN':\n",
    "            d = {} \n",
    "\n",
    "            # Padding the each word to max word size of that sentence\n",
    "            chars2_length = [len(c) for c in chars2]\n",
    "            char_maxl = max(chars2_length)\n",
    "            chars2_mask = np.zeros((len(chars2_length), char_maxl), dtype='int')\n",
    "            for i, c in enumerate(chars2):\n",
    "                chars2_mask[i, :chars2_length[i]] = c\n",
    "            chars2_mask = Variable(torch.LongTensor(chars2_mask))\n",
    "\n",
    "        dwords = Variable(torch.LongTensor(data['words']))\n",
    "        \n",
    "        # We are getting the predicted output from our model\n",
    "        if use_gpu:\n",
    "            val,out = model(dwords.cuda(), chars2_mask.cuda(), chars2_length, d)\n",
    "        else:\n",
    "            val,out = model(dwords, chars2_mask, chars2_length, d)\n",
    "        predicted_id = out\n",
    "    \n",
    "        \n",
    "        # We use the get chunks function defined above to get the true chunks\n",
    "        # and the predicted chunks from true labels and predicted labels respectively\n",
    "        lab_chunks      = set(get_chunks(ground_truth_id,tag_to_id))\n",
    "        lab_pred_chunks = set(get_chunks(predicted_id,\n",
    "                                         tag_to_id))\n",
    "\n",
    "        # Updating the count variables\n",
    "        correct_preds += len(lab_chunks & lab_pred_chunks)\n",
    "        total_preds   += len(lab_pred_chunks)\n",
    "        total_correct += len(lab_chunks)\n",
    "    \n",
    "    # Calculating the F1-Score\n",
    "    p   = correct_preds / total_preds if correct_preds > 0 else 0\n",
    "    r   = correct_preds / total_correct if correct_preds > 0 else 0\n",
    "    new_F  = 2 * p * r / (p + r) if correct_preds > 0 else 0\n",
    "\n",
    "    print(\"{}: new_F: {} best_F: {} \".format(dataset,new_F,best_F))\n",
    "    \n",
    "    # If our current F1-Score is better than the previous best, we update the best\n",
    "    # to current F1 and we set the flag to indicate that we need to checkpoint this model\n",
    "    \n",
    "    if new_F>best_F:\n",
    "        best_F=new_F\n",
    "        save=True\n",
    "\n",
    "    return best_F, new_F, save"
   ]
  },
  {
   "cell_type": "markdown",
   "metadata": {
    "id": "a7lPyluhpgGv"
   },
   "source": [
    "##### Helper function for performing Learning rate decay"
   ]
  },
  {
   "cell_type": "code",
   "execution_count": 33,
   "metadata": {
    "ExecuteTime": {
     "end_time": "2020-11-20T16:00:44.282066Z",
     "start_time": "2020-11-20T16:00:44.278079Z"
    },
    "executionInfo": {
     "elapsed": 29661,
     "status": "ok",
     "timestamp": 1606305245742,
     "user": {
      "displayName": "Wong jun xiang",
      "photoUrl": "",
      "userId": "16719805263086576204"
     },
     "user_tz": -480
    },
    "id": "Q4PtRzXBpgGv"
   },
   "outputs": [],
   "source": [
    "def adjust_learning_rate(optimizer, lr):\n",
    "    \"\"\"\n",
    "    shrink learning rate\n",
    "    \"\"\"\n",
    "    for param_group in optimizer.param_groups:\n",
    "        param_group['lr'] = lr"
   ]
  },
  {
   "cell_type": "markdown",
   "metadata": {
    "id": "UM0bFpV_pgGv"
   },
   "source": [
    "### Training Step"
   ]
  },
  {
   "cell_type": "code",
   "execution_count": 34,
   "metadata": {
    "ExecuteTime": {
     "end_time": "2020-11-20T16:33:24.351813Z",
     "start_time": "2020-11-20T16:33:24.284026Z"
    },
    "colab": {
     "base_uri": "https://localhost:8080/",
     "height": 1000
    },
    "executionInfo": {
     "elapsed": 14749310,
     "status": "ok",
     "timestamp": 1606319965395,
     "user": {
      "displayName": "Wong jun xiang",
      "photoUrl": "",
      "userId": "16719805263086576204"
     },
     "user_tz": -480
    },
    "id": "3fJLjSu_pgGv",
    "outputId": "dfbb7c19-5a65-457f-8d66-3b9d1bd62bc0"
   },
   "outputs": [
    {
     "name": "stdout",
     "output_type": "stream",
     "text": [
      "1\n"
     ]
    },
    {
     "name": "stderr",
     "output_type": "stream",
     "text": [
      "C:\\Users\\wjx15\\Anaconda3\\envs\\env2\\lib\\site-packages\\ipykernel_launcher.py:59: UserWarning: torch.nn.utils.clip_grad_norm is now deprecated in favor of torch.nn.utils.clip_grad_norm_.\n"
     ]
    },
    {
     "name": "stdout",
     "output_type": "stream",
     "text": [
      "2000 :  tensor(1.3372, device='cuda:0')\n",
      "4000 :  tensor(0.5494, device='cuda:0')\n",
      "6000 :  tensor(0.5228, device='cuda:0')\n",
      "8000 :  tensor(0.5236, device='cuda:0')\n",
      "10000 :  tensor(0.4934, device='cuda:0')\n",
      "12000 :  tensor(0.5255, device='cuda:0')\n",
      "14000 :  tensor(0.4841, device='cuda:0')\n",
      "2\n",
      "16000 :  tensor(0.4835, device='cuda:0')\n",
      "18000 :  tensor(0.4685, device='cuda:0')\n",
      "20000 :  tensor(0.4459, device='cuda:0')\n",
      "22000 :  tensor(0.4712, device='cuda:0')\n",
      "24000 :  tensor(0.4382, device='cuda:0')\n",
      "26000 :  tensor(0.4323, device='cuda:0')\n",
      "28000 :  tensor(0.4252, device='cuda:0')\n",
      "3\n",
      "30000 :  tensor(0.3830, device='cuda:0')\n",
      "32000 :  tensor(0.3924, device='cuda:0')\n",
      "34000 :  tensor(0.3804, device='cuda:0')\n",
      "36000 :  tensor(0.4232, device='cuda:0')\n",
      "38000 :  tensor(0.4168, device='cuda:0')\n",
      "40000 :  tensor(0.4091, device='cuda:0')\n",
      "42000 :  tensor(0.4030, device='cuda:0')\n",
      "4\n",
      "44000 :  tensor(0.3711, device='cuda:0')\n",
      "46000 :  tensor(0.3671, device='cuda:0')\n",
      "48000 :  tensor(0.3771, device='cuda:0')\n",
      "50000 :  tensor(0.3539, device='cuda:0')\n",
      "52000 :  tensor(0.3451, device='cuda:0')\n",
      "54000 :  tensor(0.3441, device='cuda:0')\n",
      "56000 :  tensor(0.3593, device='cuda:0')\n",
      "Train: new_F: 0.8202452387164102 best_F: -1.0 \n",
      "Dev: new_F: 0.7396873067750198 best_F: -1.0 \n",
      "Saving Model to  ./models/self-trained-model-2-CNN-layers-different-kernel\n",
      "Test: new_F: 0.6690620272314675 best_F: -1.0 \n",
      "5\n",
      "58000 :  tensor(0.3127, device='cuda:0')\n",
      "60000 :  tensor(0.3103, device='cuda:0')\n",
      "62000 :  tensor(0.3073, device='cuda:0')\n",
      "64000 :  tensor(0.3088, device='cuda:0')\n",
      "66000 :  tensor(0.3054, device='cuda:0')\n",
      "68000 :  tensor(0.3136, device='cuda:0')\n",
      "70000 :  tensor(0.3222, device='cuda:0')\n",
      "6\n",
      "72000 :  tensor(0.2692, device='cuda:0')\n",
      "74000 :  tensor(0.3036, device='cuda:0')\n",
      "76000 :  tensor(0.2739, device='cuda:0')\n",
      "78000 :  tensor(0.2847, device='cuda:0')\n",
      "80000 :  tensor(0.3257, device='cuda:0')\n",
      "82000 :  tensor(0.2667, device='cuda:0')\n",
      "84000 :  tensor(0.3023, device='cuda:0')\n",
      "7\n",
      "86000 :  tensor(0.2640, device='cuda:0')\n",
      "88000 :  tensor(0.2852, device='cuda:0')\n",
      "90000 :  tensor(0.2464, device='cuda:0')\n",
      "92000 :  tensor(0.2700, device='cuda:0')\n",
      "94000 :  tensor(0.2605, device='cuda:0')\n",
      "96000 :  tensor(0.2570, device='cuda:0')\n",
      "98000 :  tensor(0.2559, device='cuda:0')\n",
      "8\n",
      "100000 :  tensor(0.2472, device='cuda:0')\n",
      "102000 :  tensor(0.2479, device='cuda:0')\n",
      "104000 :  tensor(0.2573, device='cuda:0')\n",
      "106000 :  tensor(0.2350, device='cuda:0')\n",
      "108000 :  tensor(0.2175, device='cuda:0')\n",
      "110000 :  tensor(0.2552, device='cuda:0')\n",
      "112000 :  tensor(0.2309, device='cuda:0')\n",
      "Train: new_F: 0.8915395284327322 best_F: 0.8202452387164102 \n",
      "Dev: new_F: 0.796498526607731 best_F: 0.7396873067750198 \n",
      "Saving Model to  ./models/self-trained-model-2-CNN-layers-different-kernel\n",
      "Test: new_F: 0.7068679801141596 best_F: 0.6690620272314675 \n",
      "9\n",
      "114000 :  tensor(0.2112, device='cuda:0')\n",
      "116000 :  tensor(0.2065, device='cuda:0')\n",
      "118000 :  tensor(0.2030, device='cuda:0')\n",
      "120000 :  tensor(0.2146, device='cuda:0')\n",
      "122000 :  tensor(0.2213, device='cuda:0')\n",
      "124000 :  tensor(0.2660, device='cuda:0')\n",
      "126000 :  tensor(0.2135, device='cuda:0')\n",
      "10\n",
      "128000 :  tensor(0.1886, device='cuda:0')\n",
      "130000 :  tensor(0.1927, device='cuda:0')\n",
      "132000 :  tensor(0.2044, device='cuda:0')\n",
      "134000 :  tensor(0.2163, device='cuda:0')\n",
      "136000 :  tensor(0.2063, device='cuda:0')\n",
      "138000 :  tensor(0.1978, device='cuda:0')\n",
      "140000 :  tensor(0.2078, device='cuda:0')\n",
      "11\n",
      "142000 :  tensor(0.1766, device='cuda:0')\n",
      "144000 :  tensor(0.1747, device='cuda:0')\n",
      "146000 :  tensor(0.1869, device='cuda:0')\n",
      "148000 :  tensor(0.2076, device='cuda:0')\n",
      "150000 :  tensor(0.1799, device='cuda:0')\n",
      "152000 :  tensor(0.2048, device='cuda:0')\n",
      "154000 :  tensor(0.1822, device='cuda:0')\n",
      "12\n",
      "156000 :  tensor(0.1623, device='cuda:0')\n",
      "158000 :  tensor(0.1765, device='cuda:0')\n",
      "160000 :  tensor(0.1911, device='cuda:0')\n",
      "162000 :  tensor(0.1557, device='cuda:0')\n",
      "164000 :  tensor(0.1784, device='cuda:0')\n",
      "166000 :  tensor(0.1682, device='cuda:0')\n",
      "168000 :  tensor(0.1586, device='cuda:0')\n",
      "Train: new_F: 0.9101283880171184 best_F: 0.8915395284327322 \n",
      "Dev: new_F: 0.7870036101083032 best_F: 0.796498526607731 \n",
      "Test: new_F: 0.7046577275935074 best_F: 0.7068679801141596 \n",
      "13\n",
      "170000 :  tensor(0.1654, device='cuda:0')\n",
      "172000 :  tensor(0.1811, device='cuda:0')\n",
      "174000 :  tensor(0.1550, device='cuda:0')\n",
      "176000 :  tensor(0.1589, device='cuda:0')\n",
      "178000 :  tensor(0.1621, device='cuda:0')\n",
      "180000 :  tensor(0.1625, device='cuda:0')\n",
      "182000 :  tensor(0.1794, device='cuda:0')\n",
      "14\n",
      "184000 :  tensor(0.1339, device='cuda:0')\n",
      "186000 :  tensor(0.1737, device='cuda:0')\n",
      "188000 :  tensor(0.1494, device='cuda:0')\n",
      "190000 :  tensor(0.1564, device='cuda:0')\n",
      "192000 :  tensor(0.1324, device='cuda:0')\n",
      "194000 :  tensor(0.1668, device='cuda:0')\n",
      "196000 :  tensor(0.1444, device='cuda:0')\n",
      "15\n",
      "198000 :  tensor(0.1510, device='cuda:0')\n",
      "200000 :  tensor(0.1414, device='cuda:0')\n",
      "202000 :  tensor(0.1440, device='cuda:0')\n",
      "204000 :  tensor(0.1341, device='cuda:0')\n",
      "206000 :  tensor(0.1521, device='cuda:0')\n",
      "208000 :  tensor(0.1212, device='cuda:0')\n",
      "210000 :  tensor(0.1305, device='cuda:0')\n",
      "16\n",
      "212000 :  tensor(0.1343, device='cuda:0')\n",
      "214000 :  tensor(0.1403, device='cuda:0')\n",
      "216000 :  tensor(0.1615, device='cuda:0')\n",
      "218000 :  tensor(0.1322, device='cuda:0')\n",
      "220000 :  tensor(0.1424, device='cuda:0')\n",
      "222000 :  tensor(0.1380, device='cuda:0')\n",
      "224000 :  tensor(0.1172, device='cuda:0')\n",
      "Train: new_F: 0.9279025016035921 best_F: 0.9101283880171184 \n",
      "Dev: new_F: 0.8115584529997357 best_F: 0.796498526607731 \n",
      "Saving Model to  ./models/self-trained-model-2-CNN-layers-different-kernel\n",
      "Test: new_F: 0.710831905577765 best_F: 0.7068679801141596 \n",
      "17\n",
      "226000 :  tensor(0.1360, device='cuda:0')\n",
      "228000 :  tensor(0.1220, device='cuda:0')\n",
      "230000 :  tensor(0.1301, device='cuda:0')\n",
      "232000 :  tensor(0.1484, device='cuda:0')\n",
      "234000 :  tensor(0.1460, device='cuda:0')\n",
      "236000 :  tensor(0.1162, device='cuda:0')\n",
      "238000 :  tensor(0.1523, device='cuda:0')\n",
      "18\n",
      "240000 :  tensor(0.1330, device='cuda:0')\n",
      "242000 :  tensor(0.1083, device='cuda:0')\n",
      "244000 :  tensor(0.1177, device='cuda:0')\n",
      "246000 :  tensor(0.1140, device='cuda:0')\n",
      "248000 :  tensor(0.1122, device='cuda:0')\n",
      "250000 :  tensor(0.1258, device='cuda:0')\n",
      "252000 :  tensor(0.1276, device='cuda:0')\n",
      "19\n",
      "254000 :  tensor(0.1056, device='cuda:0')\n",
      "256000 :  tensor(0.1415, device='cuda:0')\n",
      "258000 :  tensor(0.0984, device='cuda:0')\n",
      "260000 :  tensor(0.1112, device='cuda:0')\n",
      "262000 :  tensor(0.0948, device='cuda:0')\n",
      "264000 :  tensor(0.1091, device='cuda:0')\n",
      "266000 :  tensor(0.1426, device='cuda:0')\n",
      "20\n",
      "268000 :  tensor(0.1169, device='cuda:0')\n",
      "270000 :  tensor(0.1137, device='cuda:0')\n",
      "272000 :  tensor(0.1122, device='cuda:0')\n",
      "274000 :  tensor(0.1023, device='cuda:0')\n",
      "276000 :  tensor(0.1107, device='cuda:0')\n",
      "278000 :  tensor(0.1049, device='cuda:0')\n",
      "280000 :  tensor(0.1055, device='cuda:0')\n",
      "21\n",
      "282000 :  tensor(0.1123, device='cuda:0')\n",
      "284000 :  tensor(0.1096, device='cuda:0')\n",
      "286000 :  tensor(0.1037, device='cuda:0')\n",
      "288000 :  tensor(0.1064, device='cuda:0')\n",
      "290000 :  tensor(0.1185, device='cuda:0')\n",
      "292000 :  tensor(0.0918, device='cuda:0')\n",
      "294000 :  tensor(0.1055, device='cuda:0')\n",
      "Train: new_F: 0.9342321394287176 best_F: 0.9279025016035921 \n",
      "Dev: new_F: 0.796139519133085 best_F: 0.8115584529997357 \n",
      "Test: new_F: 0.700615357174708 best_F: 0.710831905577765 \n",
      "22\n",
      "296000 :  tensor(0.1024, device='cuda:0')\n",
      "298000 :  tensor(0.1028, device='cuda:0')\n",
      "300000 :  tensor(0.1006, device='cuda:0')\n",
      "302000 :  tensor(0.1090, device='cuda:0')\n",
      "304000 :  tensor(0.0984, device='cuda:0')\n",
      "306000 :  tensor(0.1153, device='cuda:0')\n",
      "308000 :  tensor(0.0929, device='cuda:0')\n",
      "Train: new_F: 0.933310570007896 best_F: 0.9342321394287176 \n",
      "Dev: new_F: 0.8261199696279423 best_F: 0.8115584529997357 \n",
      "Saving Model to  ./models/self-trained-model-2-CNN-layers-different-kernel\n",
      "Test: new_F: 0.7451747754158143 best_F: 0.710831905577765 \n",
      "23\n",
      "310000 :  tensor(0.1006, device='cuda:0')\n",
      "312000 :  tensor(0.1042, device='cuda:0')\n",
      "314000 :  tensor(0.0851, device='cuda:0')\n",
      "316000 :  tensor(0.0847, device='cuda:0')\n",
      "318000 :  tensor(0.1091, device='cuda:0')\n",
      "320000 :  tensor(0.1023, device='cuda:0')\n",
      "322000 :  tensor(0.0897, device='cuda:0')\n",
      "Train: new_F: 0.9324563084062414 best_F: 0.9342321394287176 \n",
      "Dev: new_F: 0.816060398078243 best_F: 0.8261199696279423 \n"
     ]
    },
    {
     "name": "stdout",
     "output_type": "stream",
     "text": [
      "Test: new_F: 0.7236410069317767 best_F: 0.7451747754158143 \n",
      "24\n",
      "324000 :  tensor(0.0962, device='cuda:0')\n",
      "326000 :  tensor(0.0799, device='cuda:0')\n",
      "328000 :  tensor(0.1017, device='cuda:0')\n",
      "330000 :  tensor(0.0873, device='cuda:0')\n",
      "332000 :  tensor(0.0905, device='cuda:0')\n",
      "334000 :  tensor(0.0923, device='cuda:0')\n",
      "336000 :  tensor(0.0986, device='cuda:0')\n",
      "Train: new_F: 0.936855999318743 best_F: 0.9342321394287176 \n",
      "Dev: new_F: 0.8108576879715549 best_F: 0.8261199696279423 \n",
      "Test: new_F: 0.7167576570741185 best_F: 0.7451747754158143 \n",
      "25\n",
      "338000 :  tensor(0.1022, device='cuda:0')\n",
      "340000 :  tensor(0.0854, device='cuda:0')\n",
      "342000 :  tensor(0.1150, device='cuda:0')\n",
      "344000 :  tensor(0.0905, device='cuda:0')\n",
      "346000 :  tensor(0.0832, device='cuda:0')\n",
      "348000 :  tensor(0.0946, device='cuda:0')\n",
      "350000 :  tensor(0.0850, device='cuda:0')\n",
      "Train: new_F: 0.9374318633633313 best_F: 0.936855999318743 \n",
      "Dev: new_F: 0.8130548302872063 best_F: 0.8261199696279423 \n",
      "Test: new_F: 0.6976744186046512 best_F: 0.7451747754158143 \n",
      "26\n",
      "352000 :  tensor(0.0843, device='cuda:0')\n",
      "354000 :  tensor(0.0907, device='cuda:0')\n",
      "356000 :  tensor(0.0883, device='cuda:0')\n",
      "358000 :  tensor(0.0871, device='cuda:0')\n",
      "360000 :  tensor(0.0730, device='cuda:0')\n",
      "362000 :  tensor(0.0908, device='cuda:0')\n",
      "364000 :  tensor(0.0902, device='cuda:0')\n",
      "Train: new_F: 0.9492420371316641 best_F: 0.9374318633633313 \n",
      "Dev: new_F: 0.8194254445964433 best_F: 0.8261199696279423 \n",
      "Test: new_F: 0.7071129707112971 best_F: 0.7451747754158143 \n",
      "27\n",
      "366000 :  tensor(0.0891, device='cuda:0')\n",
      "368000 :  tensor(0.0799, device='cuda:0')\n",
      "370000 :  tensor(0.0669, device='cuda:0')\n",
      "372000 :  tensor(0.0807, device='cuda:0')\n",
      "374000 :  tensor(0.0913, device='cuda:0')\n",
      "376000 :  tensor(0.0868, device='cuda:0')\n",
      "378000 :  tensor(0.0884, device='cuda:0')\n",
      "Train: new_F: 0.9507049764296837 best_F: 0.9492420371316641 \n",
      "Dev: new_F: 0.8273598756369288 best_F: 0.8261199696279423 \n",
      "Saving Model to  ./models/self-trained-model-2-CNN-layers-different-kernel\n",
      "Test: new_F: 0.7245817245817247 best_F: 0.7451747754158143 \n",
      "28\n",
      "380000 :  tensor(0.0932, device='cuda:0')\n",
      "382000 :  tensor(0.0786, device='cuda:0')\n",
      "384000 :  tensor(0.0764, device='cuda:0')\n",
      "386000 :  tensor(0.0801, device='cuda:0')\n",
      "388000 :  tensor(0.0861, device='cuda:0')\n",
      "390000 :  tensor(0.0886, device='cuda:0')\n",
      "392000 :  tensor(0.0900, device='cuda:0')\n",
      "Train: new_F: 0.9476462075423513 best_F: 0.9507049764296837 \n",
      "Dev: new_F: 0.8176738588498238 best_F: 0.8273598756369288 \n",
      "Test: new_F: 0.7087191711744751 best_F: 0.7451747754158143 \n",
      "29\n",
      "394000 :  tensor(0.0967, device='cuda:0')\n",
      "396000 :  tensor(0.0832, device='cuda:0')\n",
      "398000 :  tensor(0.0795, device='cuda:0')\n",
      "400000 :  tensor(0.0838, device='cuda:0')\n",
      "402000 :  tensor(0.0848, device='cuda:0')\n",
      "404000 :  tensor(0.0900, device='cuda:0')\n",
      "406000 :  tensor(0.0831, device='cuda:0')\n",
      "Train: new_F: 0.9530644405639083 best_F: 0.9507049764296837 \n",
      "Dev: new_F: 0.8451470338262791 best_F: 0.8273598756369288 \n",
      "Saving Model to  ./models/self-trained-model-2-CNN-layers-different-kernel\n",
      "Test: new_F: 0.7564645463555275 best_F: 0.7451747754158143 \n",
      "30\n",
      "408000 :  tensor(0.0735, device='cuda:0')\n",
      "410000 :  tensor(0.0826, device='cuda:0')\n",
      "412000 :  tensor(0.0750, device='cuda:0')\n",
      "414000 :  tensor(0.0802, device='cuda:0')\n",
      "416000 :  tensor(0.0765, device='cuda:0')\n",
      "418000 :  tensor(0.0760, device='cuda:0')\n",
      "420000 :  tensor(0.0953, device='cuda:0')\n",
      "Train: new_F: 0.9505250576282762 best_F: 0.9530644405639083 \n",
      "Dev: new_F: 0.8213681002370471 best_F: 0.8451470338262791 \n",
      "Test: new_F: 0.7184396528585488 best_F: 0.7564645463555275 \n",
      "31\n",
      "422000 :  tensor(0.0718, device='cuda:0')\n",
      "424000 :  tensor(0.0744, device='cuda:0')\n",
      "426000 :  tensor(0.0863, device='cuda:0')\n",
      "428000 :  tensor(0.0640, device='cuda:0')\n",
      "430000 :  tensor(0.0808, device='cuda:0')\n",
      "432000 :  tensor(0.0795, device='cuda:0')\n",
      "434000 :  tensor(0.0751, device='cuda:0')\n",
      "Train: new_F: 0.9522753916657786 best_F: 0.9530644405639083 \n",
      "Dev: new_F: 0.8315990287894554 best_F: 0.8451470338262791 \n",
      "Test: new_F: 0.7219241443108233 best_F: 0.7564645463555275 \n",
      "32\n",
      "436000 :  tensor(0.0757, device='cuda:0')\n",
      "438000 :  tensor(0.0780, device='cuda:0')\n",
      "440000 :  tensor(0.0735, device='cuda:0')\n",
      "442000 :  tensor(0.0728, device='cuda:0')\n",
      "444000 :  tensor(0.0633, device='cuda:0')\n",
      "446000 :  tensor(0.0953, device='cuda:0')\n",
      "448000 :  tensor(0.0783, device='cuda:0')\n",
      "Train: new_F: 0.955123825789923 best_F: 0.9530644405639083 \n",
      "Dev: new_F: 0.8162073997768049 best_F: 0.8451470338262791 \n",
      "Test: new_F: 0.701180744777475 best_F: 0.7564645463555275 \n",
      "33\n",
      "450000 :  tensor(0.0672, device='cuda:0')\n",
      "452000 :  tensor(0.0685, device='cuda:0')\n",
      "454000 :  tensor(0.0651, device='cuda:0')\n",
      "456000 :  tensor(0.0733, device='cuda:0')\n",
      "458000 :  tensor(0.0581, device='cuda:0')\n",
      "460000 :  tensor(0.0951, device='cuda:0')\n",
      "462000 :  tensor(0.0756, device='cuda:0')\n",
      "Train: new_F: 0.954867634500427 best_F: 0.955123825789923 \n",
      "Dev: new_F: 0.8215429907351285 best_F: 0.8451470338262791 \n",
      "Test: new_F: 0.7190028834527021 best_F: 0.7564645463555275 \n",
      "34\n",
      "464000 :  tensor(0.0636, device='cuda:0')\n",
      "466000 :  tensor(0.0707, device='cuda:0')\n",
      "468000 :  tensor(0.0651, device='cuda:0')\n",
      "470000 :  tensor(0.0700, device='cuda:0')\n",
      "472000 :  tensor(0.0740, device='cuda:0')\n",
      "474000 :  tensor(0.0681, device='cuda:0')\n",
      "476000 :  tensor(0.0751, device='cuda:0')\n",
      "Train: new_F: 0.9575998122185946 best_F: 0.955123825789923 \n",
      "Dev: new_F: 0.8182979810886787 best_F: 0.8451470338262791 \n",
      "Test: new_F: 0.7141306314456305 best_F: 0.7564645463555275 \n",
      "35\n",
      "478000 :  tensor(0.0673, device='cuda:0')\n",
      "480000 :  tensor(0.0752, device='cuda:0')\n",
      "482000 :  tensor(0.0693, device='cuda:0')\n",
      "484000 :  tensor(0.0612, device='cuda:0')\n",
      "486000 :  tensor(0.0723, device='cuda:0')\n",
      "488000 :  tensor(0.0745, device='cuda:0')\n",
      "490000 :  tensor(0.0681, device='cuda:0')\n",
      "Train: new_F: 0.961429272769963 best_F: 0.9575998122185946 \n",
      "Dev: new_F: 0.8495314127039222 best_F: 0.8451470338262791 \n",
      "Saving Model to  ./models/self-trained-model-2-CNN-layers-different-kernel\n",
      "Test: new_F: 0.7552965121657877 best_F: 0.7564645463555275 \n",
      "36\n",
      "492000 :  tensor(0.0675, device='cuda:0')\n",
      "494000 :  tensor(0.0794, device='cuda:0')\n",
      "496000 :  tensor(0.0682, device='cuda:0')\n",
      "498000 :  tensor(0.0706, device='cuda:0')\n",
      "500000 :  tensor(0.0638, device='cuda:0')\n",
      "502000 :  tensor(0.0708, device='cuda:0')\n",
      "504000 :  tensor(0.0597, device='cuda:0')\n",
      "Train: new_F: 0.9615911035072713 best_F: 0.961429272769963 \n",
      "Dev: new_F: 0.8378044475820685 best_F: 0.8495314127039222 \n",
      "Test: new_F: 0.7319813386651434 best_F: 0.7564645463555275 \n",
      "37\n",
      "506000 :  tensor(0.0512, device='cuda:0')\n",
      "508000 :  tensor(0.0599, device='cuda:0')\n",
      "510000 :  tensor(0.0651, device='cuda:0')\n",
      "512000 :  tensor(0.0512, device='cuda:0')\n",
      "514000 :  tensor(0.0654, device='cuda:0')\n",
      "516000 :  tensor(0.0708, device='cuda:0')\n",
      "518000 :  tensor(0.0681, device='cuda:0')\n",
      "Train: new_F: 0.9599302765554917 best_F: 0.9615911035072713 \n",
      "Dev: new_F: 0.8172546396923591 best_F: 0.8495314127039222 \n",
      "Test: new_F: 0.7285852627872172 best_F: 0.7564645463555275 \n",
      "38\n",
      "520000 :  tensor(0.0657, device='cuda:0')\n",
      "522000 :  tensor(0.0721, device='cuda:0')\n",
      "524000 :  tensor(0.0604, device='cuda:0')\n",
      "526000 :  tensor(0.0759, device='cuda:0')\n",
      "528000 :  tensor(0.0449, device='cuda:0')\n",
      "530000 :  tensor(0.0649, device='cuda:0')\n",
      "532000 :  tensor(0.0608, device='cuda:0')\n",
      "Train: new_F: 0.9596856850017083 best_F: 0.9615911035072713 \n",
      "Dev: new_F: 0.8205920205920206 best_F: 0.8495314127039222 \n",
      "Test: new_F: 0.71690539184381 best_F: 0.7564645463555275 \n",
      "39\n",
      "534000 :  tensor(0.0671, device='cuda:0')\n",
      "536000 :  tensor(0.0529, device='cuda:0')\n",
      "538000 :  tensor(0.0678, device='cuda:0')\n",
      "540000 :  tensor(0.0739, device='cuda:0')\n",
      "542000 :  tensor(0.0638, device='cuda:0')\n",
      "544000 :  tensor(0.0667, device='cuda:0')\n",
      "546000 :  tensor(0.0525, device='cuda:0')\n",
      "Train: new_F: 0.9644135697238322 best_F: 0.9615911035072713 \n",
      "Dev: new_F: 0.8303509979353063 best_F: 0.8495314127039222 \n",
      "Test: new_F: 0.7235757464737131 best_F: 0.7564645463555275 \n",
      "40\n",
      "548000 :  tensor(0.0869, device='cuda:0')\n",
      "550000 :  tensor(0.0690, device='cuda:0')\n",
      "552000 :  tensor(0.0577, device='cuda:0')\n",
      "554000 :  tensor(0.0591, device='cuda:0')\n",
      "556000 :  tensor(0.0593, device='cuda:0')\n",
      "558000 :  tensor(0.0586, device='cuda:0')\n",
      "560000 :  tensor(0.0673, device='cuda:0')\n"
     ]
    },
    {
     "name": "stdout",
     "output_type": "stream",
     "text": [
      "Train: new_F: 0.962749493008859 best_F: 0.9644135697238322 \n",
      "Dev: new_F: 0.8144942294636796 best_F: 0.8495314127039222 \n",
      "Test: new_F: 0.7022751510842518 best_F: 0.7564645463555275 \n",
      "41\n",
      "562000 :  tensor(0.0503, device='cuda:0')\n",
      "564000 :  tensor(0.0558, device='cuda:0')\n",
      "566000 :  tensor(0.0652, device='cuda:0')\n",
      "568000 :  tensor(0.0621, device='cuda:0')\n",
      "570000 :  tensor(0.0473, device='cuda:0')\n",
      "572000 :  tensor(0.0536, device='cuda:0')\n",
      "574000 :  tensor(0.0609, device='cuda:0')\n",
      "Train: new_F: 0.9631270635850463 best_F: 0.9644135697238322 \n",
      "Dev: new_F: 0.8172914555893279 best_F: 0.8495314127039222 \n",
      "Test: new_F: 0.7106553722692822 best_F: 0.7564645463555275 \n",
      "42\n",
      "576000 :  tensor(0.0683, device='cuda:0')\n",
      "578000 :  tensor(0.0590, device='cuda:0')\n",
      "580000 :  tensor(0.0590, device='cuda:0')\n",
      "582000 :  tensor(0.0613, device='cuda:0')\n",
      "584000 :  tensor(0.0548, device='cuda:0')\n",
      "586000 :  tensor(0.0567, device='cuda:0')\n",
      "588000 :  tensor(0.0534, device='cuda:0')\n",
      "Train: new_F: 0.9630654014722777 best_F: 0.9644135697238322 \n",
      "Dev: new_F: 0.8289874703691161 best_F: 0.8495314127039222 \n",
      "Test: new_F: 0.7235525375268048 best_F: 0.7564645463555275 \n",
      "43\n",
      "590000 :  tensor(0.0526, device='cuda:0')\n",
      "592000 :  tensor(0.0648, device='cuda:0')\n",
      "594000 :  tensor(0.0575, device='cuda:0')\n",
      "596000 :  tensor(0.0469, device='cuda:0')\n",
      "598000 :  tensor(0.0627, device='cuda:0')\n",
      "600000 :  tensor(0.0626, device='cuda:0')\n",
      "602000 :  tensor(0.0595, device='cuda:0')\n",
      "Train: new_F: 0.9640680277908018 best_F: 0.9644135697238322 \n",
      "Dev: new_F: 0.8257659339726725 best_F: 0.8495314127039222 \n",
      "Test: new_F: 0.7199426626052678 best_F: 0.7564645463555275 \n",
      "44\n",
      "604000 :  tensor(0.0512, device='cuda:0')\n",
      "606000 :  tensor(0.0562, device='cuda:0')\n",
      "608000 :  tensor(0.0655, device='cuda:0')\n",
      "610000 :  tensor(0.0589, device='cuda:0')\n",
      "612000 :  tensor(0.0492, device='cuda:0')\n",
      "614000 :  tensor(0.0569, device='cuda:0')\n",
      "616000 :  tensor(0.0521, device='cuda:0')\n",
      "Train: new_F: 0.9657376630017899 best_F: 0.9644135697238322 \n",
      "Dev: new_F: 0.8188191570233972 best_F: 0.8495314127039222 \n",
      "Test: new_F: 0.7188447138527367 best_F: 0.7564645463555275 \n",
      "45\n",
      "618000 :  tensor(0.0534, device='cuda:0')\n",
      "620000 :  tensor(0.0621, device='cuda:0')\n",
      "622000 :  tensor(0.0589, device='cuda:0')\n",
      "624000 :  tensor(0.0586, device='cuda:0')\n",
      "626000 :  tensor(0.0505, device='cuda:0')\n",
      "628000 :  tensor(0.0603, device='cuda:0')\n",
      "630000 :  tensor(0.0531, device='cuda:0')\n",
      "Train: new_F: 0.959150605492069 best_F: 0.9657376630017899 \n",
      "Dev: new_F: 0.8123458889550208 best_F: 0.8495314127039222 \n",
      "Test: new_F: 0.7084824624194702 best_F: 0.7564645463555275 \n",
      "46\n",
      "632000 :  tensor(0.0558, device='cuda:0')\n",
      "634000 :  tensor(0.0491, device='cuda:0')\n",
      "636000 :  tensor(0.0566, device='cuda:0')\n",
      "638000 :  tensor(0.0521, device='cuda:0')\n",
      "640000 :  tensor(0.0521, device='cuda:0')\n",
      "642000 :  tensor(0.0542, device='cuda:0')\n",
      "644000 :  tensor(0.0534, device='cuda:0')\n",
      "Train: new_F: 0.9618577327487122 best_F: 0.9657376630017899 \n",
      "Dev: new_F: 0.8165400843881856 best_F: 0.8495314127039222 \n",
      "Test: new_F: 0.7056207755247244 best_F: 0.7564645463555275 \n",
      "47\n",
      "646000 :  tensor(0.0618, device='cuda:0')\n",
      "648000 :  tensor(0.0502, device='cuda:0')\n",
      "650000 :  tensor(0.0517, device='cuda:0')\n",
      "652000 :  tensor(0.0396, device='cuda:0')\n",
      "654000 :  tensor(0.0570, device='cuda:0')\n",
      "656000 :  tensor(0.0670, device='cuda:0')\n",
      "658000 :  tensor(0.0560, device='cuda:0')\n",
      "Train: new_F: 0.9667298154494562 best_F: 0.9657376630017899 \n",
      "Dev: new_F: 0.8234696469392938 best_F: 0.8495314127039222 \n",
      "Test: new_F: 0.7235482721767011 best_F: 0.7564645463555275 \n",
      "48\n",
      "660000 :  tensor(0.0503, device='cuda:0')\n",
      "662000 :  tensor(0.0605, device='cuda:0')\n",
      "664000 :  tensor(0.0498, device='cuda:0')\n",
      "666000 :  tensor(0.0520, device='cuda:0')\n",
      "668000 :  tensor(0.0540, device='cuda:0')\n",
      "670000 :  tensor(0.0530, device='cuda:0')\n",
      "672000 :  tensor(0.0518, device='cuda:0')\n",
      "Train: new_F: 0.9669328223144895 best_F: 0.9667298154494562 \n",
      "Dev: new_F: 0.816972554302071 best_F: 0.8495314127039222 \n",
      "Test: new_F: 0.7206807907100435 best_F: 0.7564645463555275 \n",
      "49\n",
      "674000 :  tensor(0.0478, device='cuda:0')\n",
      "676000 :  tensor(0.0596, device='cuda:0')\n",
      "678000 :  tensor(0.0538, device='cuda:0')\n",
      "680000 :  tensor(0.0576, device='cuda:0')\n",
      "682000 :  tensor(0.0474, device='cuda:0')\n",
      "684000 :  tensor(0.0383, device='cuda:0')\n",
      "686000 :  tensor(0.0482, device='cuda:0')\n",
      "688000 :  tensor(0.0586, device='cuda:0')\n",
      "Train: new_F: 0.965546630302772 best_F: 0.9669328223144895 \n",
      "Dev: new_F: 0.8272703706904001 best_F: 0.8495314127039222 \n",
      "Test: new_F: 0.7125311663126789 best_F: 0.7564645463555275 \n",
      "74932.6433160305\n"
     ]
    },
    {
     "data": {
      "image/png": "[encoded data removed]",
      "text/plain": [
       "<Figure size 480x320 with 1 Axes>"
      ]
     },
     "metadata": {
      "needs_background": "light"
     },
     "output_type": "display_data"
    }
   ],
   "source": [
    "parameters['reload']=False\n",
    "\n",
    "if not parameters['reload']:\n",
    "    tr = time.time()\n",
    "    model.train(True)\n",
    "    for epoch in range(1,number_of_epochs):\n",
    "        print(epoch)\n",
    "        for i, index in enumerate(np.random.permutation(len(train_data))):\n",
    "            count += 1\n",
    "            data = train_data[index]\n",
    "\n",
    "            ##gradient updates for each data entry\n",
    "            model.zero_grad()\n",
    "\n",
    "            sentence_in = data['words']\n",
    "            sentence_in = Variable(torch.LongTensor(sentence_in))\n",
    "            tags = data['tags']\n",
    "            chars2 = data['chars']\n",
    "            \n",
    "            if parameters['char_mode'] == 'LSTM':\n",
    "                chars2_sorted = sorted(chars2, key=lambda p: len(p), reverse=True)\n",
    "                d = {}\n",
    "                for i, ci in enumerate(chars2):\n",
    "                    for j, cj in enumerate(chars2_sorted):\n",
    "                        if ci == cj and not j in d and not i in d.values():\n",
    "                            d[j] = i\n",
    "                            continue\n",
    "                chars2_length = [len(c) for c in chars2_sorted]\n",
    "                char_maxl = max(chars2_length)\n",
    "                chars2_mask = np.zeros((len(chars2_sorted), char_maxl), dtype='int')\n",
    "                for i, c in enumerate(chars2_sorted):\n",
    "                    chars2_mask[i, :chars2_length[i]] = c\n",
    "                chars2_mask = Variable(torch.LongTensor(chars2_mask))\n",
    "            \n",
    "            if parameters['char_mode'] == 'CNN':\n",
    "\n",
    "                d = {}\n",
    "\n",
    "                ## Padding the each word to max word size of that sentence\n",
    "                chars2_length = [len(c) for c in chars2]\n",
    "                char_maxl = max(chars2_length)\n",
    "                chars2_mask = np.zeros((len(chars2_length), char_maxl), dtype='int')\n",
    "                for i, c in enumerate(chars2):\n",
    "                    chars2_mask[i, :chars2_length[i]] = c\n",
    "                chars2_mask = Variable(torch.LongTensor(chars2_mask))\n",
    "\n",
    "\n",
    "            targets = torch.LongTensor(tags)\n",
    "\n",
    "            #we calculate the negative log-likelihood for the predicted tags using the predefined function\n",
    "            if use_gpu:\n",
    "                neg_log_likelihood = model.neg_log_likelihood(sentence_in.cuda(), targets.cuda(), chars2_mask.cuda(), chars2_length, d)\n",
    "            else:\n",
    "                neg_log_likelihood = model.neg_log_likelihood(sentence_in, targets, chars2_mask, chars2_length, d)\n",
    "            loss += neg_log_likelihood.data / len(data['words'])\n",
    "            neg_log_likelihood.backward()\n",
    "\n",
    "            #we use gradient clipping to avoid exploding gradients\n",
    "            torch.nn.utils.clip_grad_norm(model.parameters(), gradient_clip)\n",
    "            optimizer.step()\n",
    "\n",
    "            #Storing loss\n",
    "            if count % plot_every == 0:\n",
    "                loss /= plot_every\n",
    "                print(count, ': ', loss)\n",
    "                if losses == []:\n",
    "                    losses.append(loss)\n",
    "                losses.append(loss)\n",
    "                loss = 0.0\n",
    "\n",
    "            #Evaluating on Train, Test, Dev Sets\n",
    "            if count % (eval_every) == 0 and count > (eval_every * 20) or \\\n",
    "                    count % (eval_every*4) == 0 and count < (eval_every * 20):\n",
    "                model.train(False)\n",
    "                best_train_F, new_train_F, _ = evaluating(model, train_data, best_train_F,\"Train\")\n",
    "                best_dev_F, new_dev_F, save = evaluating(model, dev_data, best_dev_F,\"Dev\")\n",
    "                if save:\n",
    "                    print(\"Saving Model to \", model_name)\n",
    "                    torch.save(model.state_dict(), model_name)\n",
    "                best_test_F, new_test_F, _ = evaluating(model, test_data, best_test_F,\"Test\")\n",
    "\n",
    "                all_F.append([new_train_F, new_dev_F, new_test_F])\n",
    "                model.train(True)\n",
    "\n",
    "            #Performing decay on the learning rate\n",
    "            if count % len(train_data) == 0:\n",
    "                adjust_learning_rate(optimizer, lr=learning_rate/(1+decay_rate*count/len(train_data)))\n",
    "\n",
    "    print(time.time() - tr)\n",
    "    plt.plot(losses)\n",
    "    plt.show()\n",
    "\n",
    "if not parameters['reload']:\n",
    "    #reload the best model saved from training\n",
    "    model.load_state_dict(torch.load(model_name))"
   ]
  },
  {
   "cell_type": "code",
   "execution_count": 35,
   "metadata": {
    "colab": {
     "base_uri": "https://localhost:8080/",
     "height": 307
    },
    "executionInfo": {
     "elapsed": 1382,
     "status": "ok",
     "timestamp": 1606320064104,
     "user": {
      "displayName": "Wong jun xiang",
      "photoUrl": "",
      "userId": "16719805263086576204"
     },
     "user_tz": -480
    },
    "id": "G5q-p8DwrAaN",
    "outputId": "0fb07e43-6c14-428f-ad5d-37e27c969a34"
   },
   "outputs": [
    {
     "data": {
      "image/png": "[encoded data removed]",
      "text/plain": [
       "<Figure size 480x320 with 1 Axes>"
      ]
     },
     "metadata": {
      "needs_background": "light"
     },
     "output_type": "display_data"
    }
   ],
   "source": [
    "# look at F1 scores\n",
    "epochs = list(range(len(all_F)))\n",
    "\n",
    "train_F1_scores = []\n",
    "val_F1_scores = []\n",
    "test_F1_scores = []\n",
    "\n",
    "for scores in all_F:\n",
    "    train_F1_scores.append(scores[0])\n",
    "    val_F1_scores.append(scores[1])\n",
    "    test_F1_scores.append(scores[2])\n",
    "\n",
    "plt.plot(epochs, train_F1_scores, label='train')\n",
    "plt.plot(epochs, val_F1_scores, label='val')\n",
    "plt.plot(epochs, test_F1_scores, label='test')\n",
    "\n",
    "plt.legend()\n",
    "plt.xlabel('number of epochs')\n",
    "plt.ylabel('F1 score')\n",
    "\n",
    "plt.show()"
   ]
  },
  {
   "cell_type": "markdown",
   "metadata": {
    "id": "ZHMRkihZpgGv"
   },
   "source": [
    "### Model Testing\n",
    "\n",
    "This is where we provide our readers with some fun, they can try out how the trained model functions on the sentences that you throw at it. Feel free to play around.\n",
    "\n",
    "\n",
    "##### LIVE: PRODUCTION!"
   ]
  },
  {
   "cell_type": "code",
   "execution_count": 36,
   "metadata": {
    "ExecuteTime": {
     "end_time": "2020-11-20T16:00:48.722675Z",
     "start_time": "2020-11-20T16:00:48.651864Z"
    },
    "colab": {
     "base_uri": "https://localhost:8080/"
    },
    "executionInfo": {
     "elapsed": 1175,
     "status": "ok",
     "timestamp": 1606320087319,
     "user": {
      "displayName": "Wong jun xiang",
      "photoUrl": "",
      "userId": "16719805263086576204"
     },
     "user_tz": -480
    },
    "id": "Lah0lGMQpgGv",
    "outputId": "96950294-15db-4b3c-93bf-9f45aa25f9f8"
   },
   "outputs": [
    {
     "name": "stdout",
     "output_type": "stream",
     "text": [
      "Prediction:\n",
      "word : tag\n",
      "NTU : NA\n",
      "is : NA\n",
      "a : NA\n",
      "university : NA\n",
      "in : NA\n",
      "Singapore : LOC\n",
      "\n",
      "\n",
      "The : NA\n",
      "Moon : PER\n",
      "completes : NA\n",
      "one : NA\n",
      "revolution : NA\n",
      "around : NA\n",
      "the : NA\n",
      "Earth : NA\n",
      "in : NA\n",
      "about : NA\n",
      "28 : NA\n",
      "days : NA\n",
      "\n",
      "\n",
      "Singapore : LOC\n",
      "is : NA\n",
      "part : NA\n",
      "of : NA\n",
      "Southeast : LOC\n",
      "Asia : NA\n",
      "\n",
      "\n",
      "The : NA\n",
      "capital : NA\n",
      "of : NA\n",
      "England : LOC\n",
      "is : NA\n",
      "London : LOC\n",
      "\n",
      "\n",
      "Lee : PER\n",
      "Kuan : NA\n",
      "Yew : NA\n",
      "was : NA\n",
      "the : NA\n",
      "first : NA\n",
      "prime : NA\n",
      "minister : NA\n",
      "of : NA\n",
      "Singapore : LOC\n",
      "\n",
      "\n",
      "George : PER\n",
      "Washington : NA\n",
      "was : NA\n",
      "the : NA\n",
      "first : NA\n",
      "president : NA\n",
      "of : NA\n",
      "USA : LOC\n",
      "\n",
      "\n"
     ]
    }
   ],
   "source": [
    "model_testing_sentences = [\n",
    "    'NTU is a university in Singapore',\n",
    "    'The Moon completes one revolution around the Earth in about 28 days',\n",
    "    'Singapore is part of Southeast Asia',\n",
    "    'The capital of England is London',\n",
    "    'Lee Kuan Yew was the first prime minister of Singapore',\n",
    "    'George Washington was the first president of USA',\n",
    "]\n",
    "\n",
    "#parameters\n",
    "lower=parameters['lower']\n",
    "\n",
    "#preprocessing\n",
    "final_test_data = []\n",
    "for sentence in model_testing_sentences:\n",
    "    s=sentence.split()\n",
    "    str_words = [w for w in s]\n",
    "    words = [word_to_id[lower_case(w,lower) if lower_case(w,lower) in word_to_id else '<UNK>'] for w in str_words]\n",
    "    \n",
    "    # Skip characters that are not in the training set\n",
    "    chars = [[char_to_id[c] for c in w if c in char_to_id] for w in str_words]\n",
    "    \n",
    "    final_test_data.append({\n",
    "        'str_words': str_words,\n",
    "        'words': words,\n",
    "        'chars': chars,\n",
    "    })\n",
    "\n",
    "#prediction\n",
    "predictions = []\n",
    "print(\"Prediction:\")\n",
    "print(\"word : tag\")\n",
    "for data in final_test_data:\n",
    "    words = data['str_words']\n",
    "    chars2 = data['chars']\n",
    "\n",
    "    d = {} \n",
    "    \n",
    "    # Padding the each word to max word size of that sentence\n",
    "    chars2_length = [len(c) for c in chars2]\n",
    "    char_maxl = max(chars2_length)\n",
    "    chars2_mask = np.zeros((len(chars2_length), char_maxl), dtype='int')\n",
    "    for i, c in enumerate(chars2):\n",
    "        chars2_mask[i, :chars2_length[i]] = c\n",
    "    chars2_mask = Variable(torch.LongTensor(chars2_mask))\n",
    "\n",
    "    dwords = Variable(torch.LongTensor(data['words']))\n",
    "\n",
    "    # We are getting the predicted output from our model\n",
    "    if use_gpu:\n",
    "        val,predicted_id = model(dwords.cuda(), chars2_mask.cuda(), chars2_length, d)\n",
    "    else:\n",
    "        val,predicted_id = model(dwords, chars2_mask, chars2_length, d)\n",
    "\n",
    "    pred_chunks = get_chunks(predicted_id,tag_to_id)\n",
    "    temp_list_tags=['NA']*len(words)\n",
    "    for p in pred_chunks:\n",
    "        temp_list_tags[p[1]]=p[0]\n",
    "        \n",
    "    for word,tag in zip(words,temp_list_tags):\n",
    "        print(word,':',tag)\n",
    "    print('\\n')"
   ]
  },
  {
   "cell_type": "markdown",
   "metadata": {
    "id": "7zPTiqblpgGv"
   },
   "source": [
    "### References"
   ]
  },
  {
   "cell_type": "markdown",
   "metadata": {
    "id": "eBsodPyvpgGv"
   },
   "source": [
    "1) Xuezhe Ma and Eduard Hovy. 2016. ** End-to-end Sequence Labeling via Bi-directional LSTM-CNNs-CRF .** In Proceedings of the 54th Annual Meeting of the Association for Computational Linguistics (Volume 1: LongPapers). Association for Computational Linguistics, Berlin, Germany ** (https://arxiv.org/pdf/1603.01354.pdf) **\n",
    "\n",
    "2) Official PyTorch Tutorial : [** Advanced: Making Dynamic Decisions and the Bi-LSTM CRF **](http://pytorch.org/tutorials/beginner/nlp/advanced_tutorial.html#sphx-glr-beginner-nlp-advanced-tutorial-py)\n",
    "\n",
    "3) [** Sequence Tagging with Tensorflow **](https://guillaumegenthial.github.io/sequence-tagging-with-tensorflow.html)  using bi-LSTM + CRF with character embeddings for NER and POS by Guillaume Genthial\n",
    "\n",
    "4) Github Repository - [** Reference Github Repository **](https://github.com/jayavardhanr/End-to-end-Sequence-Labeling-via-Bi-directional-LSTM-CNNs-CRF-Tutorial)\n"
   ]
  },
  {
   "cell_type": "code",
   "execution_count": null,
   "metadata": {
    "executionInfo": {
     "elapsed": 14749809,
     "status": "aborted",
     "timestamp": 1606319965904,
     "user": {
      "displayName": "Wong jun xiang",
      "photoUrl": "",
      "userId": "16719805263086576204"
     },
     "user_tz": -480
    },
    "id": "5mD5SrUmpgGv"
   },
   "outputs": [],
   "source": []
  },
  {
   "cell_type": "code",
   "execution_count": null,
   "metadata": {
    "executionInfo": {
     "elapsed": 14749806,
     "status": "aborted",
     "timestamp": 1606319965905,
     "user": {
      "displayName": "Wong jun xiang",
      "photoUrl": "",
      "userId": "16719805263086576204"
     },
     "user_tz": -480
    },
    "id": "-werp2I6pgGv"
   },
   "outputs": [],
   "source": []
  },
  {
   "cell_type": "code",
   "execution_count": null,
   "metadata": {
    "executionInfo": {
     "elapsed": 14749803,
     "status": "aborted",
     "timestamp": 1606319965905,
     "user": {
      "displayName": "Wong jun xiang",
      "photoUrl": "",
      "userId": "16719805263086576204"
     },
     "user_tz": -480
    },
    "id": "w5QErDSDpgGv"
   },
   "outputs": [],
   "source": []
  }
 ],
 "metadata": {
  "accelerator": "GPU",
  "colab": {
   "collapsed_sections": [
    "7zPTiqblpgGv"
   ],
   "name": "q2 - 2 cnn layer.ipynb",
   "provenance": []
  },
  "kernelspec": {
   "display_name": "Python 3",
   "language": "python",
   "name": "python3"
  },
  "language_info": {
   "codemirror_mode": {
    "name": "ipython",
    "version": 3
   },
   "file_extension": ".py",
   "mimetype": "text/x-python",
   "name": "python",
   "nbconvert_exporter": "python",
   "pygments_lexer": "ipython3",
   "version": "3.7.9"
  },
  "toc": {
   "base_numbering": 1,
   "nav_menu": {},
   "number_sections": true,
   "sideBar": true,
   "skip_h1_title": false,
   "title_cell": "Table of Contents",
   "title_sidebar": "Contents",
   "toc_cell": false,
   "toc_position": {
    "height": "calc(100% - 180px)",
    "left": "10px",
    "top": "150px",
    "width": "307.188px"
   },
   "toc_section_display": true,
   "toc_window_display": true
  },
  "varInspector": {
   "cols": {
    "lenName": 16,
    "lenType": 16,
    "lenVar": 40
   },
   "kernels_config": {
    "python": {
     "delete_cmd_postfix": "",
     "delete_cmd_prefix": "del ",
     "library": "var_list.py",
     "varRefreshCmd": "print(var_dic_list())"
    },
    "r": {
     "delete_cmd_postfix": ") ",
     "delete_cmd_prefix": "rm(",
     "library": "var_list.r",
     "varRefreshCmd": "cat(var_dic_list()) "
    }
   },
   "types_to_exclude": [
    "module",
    "function",
    "builtin_function_or_method",
    "instance",
    "_Feature"
   ],
   "window_display": false
  }
 },
 "nbformat": 4,
 "nbformat_minor": 1
}
